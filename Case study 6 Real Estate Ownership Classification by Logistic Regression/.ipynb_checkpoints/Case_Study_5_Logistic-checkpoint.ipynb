{
 "cells": [
  {
   "cell_type": "markdown",
   "id": "c8cc4610",
   "metadata": {
    "ExecuteTime": {
     "end_time": "2023-02-18T10:57:59.297944Z",
     "start_time": "2023-02-18T10:57:59.293008Z"
    }
   },
   "source": [
    "***\n",
    "**Tutorial 3 for Chapter 2**\n",
    "\n",
    "Case study 6: Real Estate Ownership Classification by Logistic Regression\n",
    "***\n",
    "<font color = 'darkred'>*Reference:*\n",
    "<font color = 'darkred'>*Python数据挖掘实战*\n",
    "\n",
    "<!-- Acknowledgement:  \n",
    "**i2DM (Tan, Steinbach, Kumar (2018) Introduction to Data Mining , 2nd Ed, Pearson )** Pearson Press   -->\n",
    "For the course AMA546 Statistical Data Mining   \n",
    "Lecturer: Dr. Catherine Liu    \n",
    "AMA, PolyU, HKSAR"
   ]
  },
  {
   "cell_type": "markdown",
   "id": "4da900f6",
   "metadata": {},
   "source": [
    "***Contents***\n",
    "- Objectives of the analysis\n",
    "- Description of the data\n",
    "- Exploratory data analysis\n",
    "  - Data quality (No need in our case)\n",
    "    - Data Cleaning\n",
    "    - Data Validation\n",
    "    - Data Transformation\n",
    "  - Marginal variable analysis\n",
    "    - Home Ownership\n",
    "    - Scatter plot matrix\n",
    "    - Violin plot of Age, Num Bathrooms, Num Bedrooms, Num Cars and Num Children\n",
    "    - Exploring the Relationships using 3D Scatter Plot\n",
    "  - Data preprocessing\n",
    "    - Split the training and testing set\n",
    "- Model building\n",
    "- Model evaluation (based on testing data)\n",
    "  - Accuracy\n",
    "  - Confusion matrices\n",
    "- Summary report\n",
    "  - Context\n",
    "  - Objectives\n",
    "  - Organisation of the data\n",
    "  - Exploratory data analysis\n",
    "  - Model specification\n",
    "  - Model evaluation"
   ]
  },
  {
   "cell_type": "code",
   "execution_count": 1,
   "id": "622cf5c3",
   "metadata": {
    "ExecuteTime": {
     "end_time": "2023-02-20T01:34:56.815225Z",
     "start_time": "2023-02-20T01:34:55.009255Z"
    }
   },
   "outputs": [],
   "source": [
    "import pandas\n",
    "from sklearn.svm import SVC\n",
    "from sklearn.model_selection import GridSearchCV\n",
    "import seaborn as sns\n",
    "import matplotlib. pyplot as plt "
   ]
  },
  {
   "cell_type": "markdown",
   "id": "f83b44ad",
   "metadata": {},
   "source": [
    "# Objectives of the analysis\n",
    "In this case study, we will use **logistic regression** to predict the **ownership of the real estate**.\n",
    "\n",
    "The initiator of this case study was the government department of a city in China, who wants to know the ownership state of the real estate in the city. However, the cost of household census is extremely high. So the government wants to predict the ownership state of the real estate through the data related to the real estate.\n",
    "\n",
    "The government has found that whether a real estate is owned by the occupant is related to the personal **circumstances of the household** and the **condition of the house**. This allows us to predict whether a real estate is owned by the occupant using housing data collected from the estate management office and the cable TV company."
   ]
  },
  {
   "cell_type": "markdown",
   "id": "8a3e3cc2",
   "metadata": {},
   "source": [
    "# Description of the data "
   ]
  },
  {
   "cell_type": "code",
   "execution_count": 2,
   "id": "52d0c9c5",
   "metadata": {
    "ExecuteTime": {
     "end_time": "2023-02-20T01:34:56.836310Z",
     "start_time": "2023-02-20T01:34:56.816591Z"
    },
    "scrolled": false
   },
   "outputs": [
    {
     "data": {
      "text/html": [
       "<div>\n",
       "<style scoped>\n",
       "    .dataframe tbody tr th:only-of-type {\n",
       "        vertical-align: middle;\n",
       "    }\n",
       "\n",
       "    .dataframe tbody tr th {\n",
       "        vertical-align: top;\n",
       "    }\n",
       "\n",
       "    .dataframe thead th {\n",
       "        text-align: right;\n",
       "    }\n",
       "</style>\n",
       "<table border=\"1\" class=\"dataframe\">\n",
       "  <thead>\n",
       "    <tr style=\"text-align: right;\">\n",
       "      <th></th>\n",
       "      <th>Age</th>\n",
       "      <th>Education Level</th>\n",
       "      <th>Gender</th>\n",
       "      <th>Internet Connection</th>\n",
       "      <th>Marital Status</th>\n",
       "      <th>Movie Selector</th>\n",
       "      <th>Num Bathrooms</th>\n",
       "      <th>Num Bedrooms</th>\n",
       "      <th>Num Cars</th>\n",
       "      <th>Num Children</th>\n",
       "      <th>...</th>\n",
       "      <th>PPV Freq</th>\n",
       "      <th>Prerec Buying Freq</th>\n",
       "      <th>Prerec Format</th>\n",
       "      <th>Prerec Renting Freq</th>\n",
       "      <th>Prerec Viewing Freq</th>\n",
       "      <th>CustomerID</th>\n",
       "      <th>Theater Freq</th>\n",
       "      <th>TV Movie Freq</th>\n",
       "      <th>TV Signal</th>\n",
       "      <th>Home Ownership</th>\n",
       "    </tr>\n",
       "  </thead>\n",
       "  <tbody>\n",
       "    <tr>\n",
       "      <th>0</th>\n",
       "      <td>33</td>\n",
       "      <td>Doctorate</td>\n",
       "      <td>Male</td>\n",
       "      <td>Dial-Up</td>\n",
       "      <td>Married</td>\n",
       "      <td>Spouse/Partner</td>\n",
       "      <td>2.5</td>\n",
       "      <td>3</td>\n",
       "      <td>1</td>\n",
       "      <td>0</td>\n",
       "      <td>...</td>\n",
       "      <td>Rarely</td>\n",
       "      <td>Monthly</td>\n",
       "      <td>DVD</td>\n",
       "      <td>Rarely</td>\n",
       "      <td>Monthly</td>\n",
       "      <td>877687</td>\n",
       "      <td>Monthly</td>\n",
       "      <td>Monthly</td>\n",
       "      <td>Cable</td>\n",
       "      <td>Own</td>\n",
       "    </tr>\n",
       "    <tr>\n",
       "      <th>1</th>\n",
       "      <td>47</td>\n",
       "      <td>Doctorate</td>\n",
       "      <td>Male</td>\n",
       "      <td>DSL</td>\n",
       "      <td>Married</td>\n",
       "      <td>Spouse/Partner</td>\n",
       "      <td>2.0</td>\n",
       "      <td>2</td>\n",
       "      <td>2</td>\n",
       "      <td>1</td>\n",
       "      <td>...</td>\n",
       "      <td>Never</td>\n",
       "      <td>Monthly</td>\n",
       "      <td>DVD</td>\n",
       "      <td>Monthly</td>\n",
       "      <td>Weekly</td>\n",
       "      <td>877723</td>\n",
       "      <td>Rarely</td>\n",
       "      <td>Weekly</td>\n",
       "      <td>Cable</td>\n",
       "      <td>Own</td>\n",
       "    </tr>\n",
       "    <tr>\n",
       "      <th>2</th>\n",
       "      <td>35</td>\n",
       "      <td>Bachelor's Degree</td>\n",
       "      <td>Male</td>\n",
       "      <td>Cable Modem</td>\n",
       "      <td>Married</td>\n",
       "      <td>Me</td>\n",
       "      <td>2.5</td>\n",
       "      <td>4</td>\n",
       "      <td>2</td>\n",
       "      <td>2</td>\n",
       "      <td>...</td>\n",
       "      <td>Rarely</td>\n",
       "      <td>Rarely</td>\n",
       "      <td>DVD</td>\n",
       "      <td>Monthly</td>\n",
       "      <td>Monthly</td>\n",
       "      <td>877792</td>\n",
       "      <td>Rarely</td>\n",
       "      <td>Daily</td>\n",
       "      <td>Cable</td>\n",
       "      <td>Own</td>\n",
       "    </tr>\n",
       "    <tr>\n",
       "      <th>3</th>\n",
       "      <td>32</td>\n",
       "      <td>Bachelor's Degree</td>\n",
       "      <td>Male</td>\n",
       "      <td>Cable Modem</td>\n",
       "      <td>Married</td>\n",
       "      <td>Me</td>\n",
       "      <td>3.5</td>\n",
       "      <td>5</td>\n",
       "      <td>2</td>\n",
       "      <td>2</td>\n",
       "      <td>...</td>\n",
       "      <td>Never</td>\n",
       "      <td>Rarely</td>\n",
       "      <td>DVD</td>\n",
       "      <td>Monthly</td>\n",
       "      <td>Monthly</td>\n",
       "      <td>877840</td>\n",
       "      <td>Monthly</td>\n",
       "      <td>Weekly</td>\n",
       "      <td>Cable</td>\n",
       "      <td>Own</td>\n",
       "    </tr>\n",
       "    <tr>\n",
       "      <th>4</th>\n",
       "      <td>32</td>\n",
       "      <td>Bachelor's Degree</td>\n",
       "      <td>Male</td>\n",
       "      <td>No Internet Connection</td>\n",
       "      <td>Married</td>\n",
       "      <td>Me</td>\n",
       "      <td>2.5</td>\n",
       "      <td>4</td>\n",
       "      <td>2</td>\n",
       "      <td>0</td>\n",
       "      <td>...</td>\n",
       "      <td>Rarely</td>\n",
       "      <td>Rarely</td>\n",
       "      <td>DVD</td>\n",
       "      <td>Weekly</td>\n",
       "      <td>Weekly</td>\n",
       "      <td>877988</td>\n",
       "      <td>Weekly</td>\n",
       "      <td>Weekly</td>\n",
       "      <td>Digital Satellite</td>\n",
       "      <td>Own</td>\n",
       "    </tr>\n",
       "  </tbody>\n",
       "</table>\n",
       "<p>5 rows × 21 columns</p>\n",
       "</div>"
      ],
      "text/plain": [
       "   Age    Education Level Gender     Internet Connection Marital Status  \\\n",
       "0   33          Doctorate   Male                 Dial-Up        Married   \n",
       "1   47          Doctorate   Male                     DSL        Married   \n",
       "2   35  Bachelor's Degree   Male             Cable Modem        Married   \n",
       "3   32  Bachelor's Degree   Male             Cable Modem        Married   \n",
       "4   32  Bachelor's Degree   Male  No Internet Connection        Married   \n",
       "\n",
       "   Movie Selector  Num Bathrooms  Num Bedrooms  Num Cars  Num Children  ...  \\\n",
       "0  Spouse/Partner            2.5             3         1             0  ...   \n",
       "1  Spouse/Partner            2.0             2         2             1  ...   \n",
       "2              Me            2.5             4         2             2  ...   \n",
       "3              Me            3.5             5         2             2  ...   \n",
       "4              Me            2.5             4         2             0  ...   \n",
       "\n",
       "   PPV Freq Prerec Buying Freq Prerec Format Prerec Renting Freq  \\\n",
       "0    Rarely            Monthly           DVD              Rarely   \n",
       "1     Never            Monthly           DVD             Monthly   \n",
       "2    Rarely             Rarely           DVD             Monthly   \n",
       "3     Never             Rarely           DVD             Monthly   \n",
       "4    Rarely             Rarely           DVD              Weekly   \n",
       "\n",
       "  Prerec Viewing Freq CustomerID  Theater Freq TV Movie Freq  \\\n",
       "0             Monthly     877687       Monthly       Monthly   \n",
       "1              Weekly     877723        Rarely        Weekly   \n",
       "2             Monthly     877792        Rarely         Daily   \n",
       "3             Monthly     877840       Monthly        Weekly   \n",
       "4              Weekly     877988        Weekly        Weekly   \n",
       "\n",
       "           TV Signal Home Ownership  \n",
       "0              Cable            Own  \n",
       "1              Cable            Own  \n",
       "2              Cable            Own  \n",
       "3              Cable            Own  \n",
       "4  Digital Satellite            Own  \n",
       "\n",
       "[5 rows x 21 columns]"
      ]
     },
     "execution_count": 2,
     "metadata": {},
     "output_type": "execute_result"
    }
   ],
   "source": [
    "### Load data\n",
    "owner = pandas.read_csv('data/Ownership.csv')\n",
    "owner.head()"
   ]
  },
  {
   "cell_type": "markdown",
   "id": "2d8ca767",
   "metadata": {},
   "source": [
    "The dataset contain 7 columns of numerical data and 14 column of categorical data. The column `Home Ownership` is the response variable we want to predict. There are 3085 rows (samples) in the dataset. The explanations and range of the features are attached below:\n",
    "\n",
    "Variable | Explanation | Range\n",
    "---|---|---\n",
    "Age | Age of the house owner | [20, 62]\n",
    "Education Level | Education level of the house owner | {Doctorate, Bachelor's Degree, Master's Degree, Associate's Degree, Some College, Post-Doc, Trade School, High School, Grade School}\n",
    "Gender | Gender of the house owner | {Male, Female}\n",
    "Home Ownership | House ownership | {Own, Rent}\n",
    "Internet Connection | Internet connection type of the house owner | {Dial-Up, DSL, Cable Modem, No Internet Connection, Other, IDSN}\n",
    "Marital Status | Marital status of the house owner | {Married, Divorced, Never Married, Separated, Other}\n",
    "Movie Selector | The type of the movie selector | {Spouse/Partner, Me, Other, Children}\n",
    "Num Bathrooms | Number of bathrooms in the house owner's home | [0.5, 5]\n",
    "Num Bedrooms | Number of bedrooms in the house owner's home | [1, 10]\n",
    "Num Cars | Number of cars owned by the house owner | [1, 6]\n",
    "Num Children | Number of children of the house owner | [0, 6]\n",
    "Num TVs | Number of televisions in the house owner's home | [0, 10]\n",
    "PPV Freq | Frequency of Pay-Per-View of the house owner | {Rarely, Never, Monthly, Weekly, Daily}\n",
    "Prerec Buying Freq | Frequency of pre-recorded movie buying | {Monthly, Rarely, Never, Weekly, Daily}\n",
    "Prerec Format | Pre-recorded movie format | {DVD, VHS, Betamax, Laserdisk, Video CD, Other}\n",
    "Prerec Renting Freq | Frequency of pre-recorded movie renting | {Rarely, Monthly, Weekly, Never, Daily}\n",
    "Prerec Viewing Freq | Frequency of pre-recorded movie viewing | {Monthly, Weekly, Rarely, Daily, Never}\n",
    "CustomerID | House owner identifier | [877687, 927818]\n",
    "Theater Freq | Frequency of theater movie watching | {Monthly, Rarely, Weekly, Never, Daily}\n",
    "TV Movie Freq | Frequency of TV movie watching | {Monthly, Weekly, Daily, Rarely, Never}\n",
    "TV Signal | Type of TV signal | {Cable, Digital Satellite, Analog antennae, Don't watch TV, Analog Satellite}"
   ]
  },
  {
   "cell_type": "markdown",
   "id": "e9a383ab",
   "metadata": {},
   "source": [
    "#  Exploratory data analysis"
   ]
  },
  {
   "cell_type": "markdown",
   "id": "377ab1c7",
   "metadata": {},
   "source": [
    "## Data quality (No need in our case)\n",
    "### Data Cleaning\n",
    "We'll check for any missing values (**NA or Null**) in our dataset using the `isna()` method in Python. Fortunately, no such values were found, and data cleaning is not necessary in this regard. Note that .isnull() is equivalent to .isna(), so we can use either method to check for missing values."
   ]
  },
  {
   "cell_type": "code",
   "execution_count": 3,
   "id": "a65b03f8",
   "metadata": {
    "ExecuteTime": {
     "end_time": "2023-02-20T01:34:56.845221Z",
     "start_time": "2023-02-20T01:34:56.837327Z"
    }
   },
   "outputs": [
    {
     "name": "stdout",
     "output_type": "stream",
     "text": [
      "Empty DataFrame\n",
      "Columns: [Age, Education Level, Gender, Internet Connection, Marital Status, Movie Selector, Num Bathrooms, Num Bedrooms, Num Cars, Num Children, Num TVs, PPV Freq, Prerec Buying Freq, Prerec Format, Prerec Renting Freq, Prerec Viewing Freq, CustomerID, Theater Freq, TV Movie Freq, TV Signal, Home Ownership]\n",
      "Index: []\n",
      "\n",
      "[0 rows x 21 columns]\n"
     ]
    }
   ],
   "source": [
    "### There is no NA or Null data in the dataframe\n",
    "print(owner[owner.isna().any(axis=1)])"
   ]
  },
  {
   "cell_type": "markdown",
   "id": "abacee57",
   "metadata": {},
   "source": [
    "### Data Validation\n",
    "Through the analysis of continuous variables and categorical variables, their values are within the reasonable range. All of the data appears to be reasonable and **no inconsistencies** are immediately noticeable."
   ]
  },
  {
   "cell_type": "code",
   "execution_count": 4,
   "id": "eee73a7d",
   "metadata": {
    "ExecuteTime": {
     "end_time": "2023-02-20T01:34:56.862241Z",
     "start_time": "2023-02-20T01:34:56.846933Z"
    },
    "scrolled": true
   },
   "outputs": [
    {
     "data": {
      "text/html": [
       "<div>\n",
       "<style scoped>\n",
       "    .dataframe tbody tr th:only-of-type {\n",
       "        vertical-align: middle;\n",
       "    }\n",
       "\n",
       "    .dataframe tbody tr th {\n",
       "        vertical-align: top;\n",
       "    }\n",
       "\n",
       "    .dataframe thead th {\n",
       "        text-align: right;\n",
       "    }\n",
       "</style>\n",
       "<table border=\"1\" class=\"dataframe\">\n",
       "  <thead>\n",
       "    <tr style=\"text-align: right;\">\n",
       "      <th></th>\n",
       "      <th>Age</th>\n",
       "      <th>Num Bathrooms</th>\n",
       "      <th>Num Bedrooms</th>\n",
       "      <th>Num Cars</th>\n",
       "      <th>Num Children</th>\n",
       "      <th>Num TVs</th>\n",
       "      <th>CustomerID</th>\n",
       "    </tr>\n",
       "  </thead>\n",
       "  <tbody>\n",
       "    <tr>\n",
       "      <th>count</th>\n",
       "      <td>3085.000000</td>\n",
       "      <td>3085.000000</td>\n",
       "      <td>3085.000000</td>\n",
       "      <td>3085.000000</td>\n",
       "      <td>3085.000000</td>\n",
       "      <td>3085.000000</td>\n",
       "      <td>3085.000000</td>\n",
       "    </tr>\n",
       "    <tr>\n",
       "      <th>mean</th>\n",
       "      <td>33.156240</td>\n",
       "      <td>2.096759</td>\n",
       "      <td>2.878444</td>\n",
       "      <td>1.682658</td>\n",
       "      <td>0.806483</td>\n",
       "      <td>2.098865</td>\n",
       "      <td>897854.733225</td>\n",
       "    </tr>\n",
       "    <tr>\n",
       "      <th>std</th>\n",
       "      <td>7.239346</td>\n",
       "      <td>0.812988</td>\n",
       "      <td>1.150117</td>\n",
       "      <td>0.802138</td>\n",
       "      <td>1.111995</td>\n",
       "      <td>1.230140</td>\n",
       "      <td>12692.682200</td>\n",
       "    </tr>\n",
       "    <tr>\n",
       "      <th>min</th>\n",
       "      <td>20.000000</td>\n",
       "      <td>0.500000</td>\n",
       "      <td>1.000000</td>\n",
       "      <td>0.000000</td>\n",
       "      <td>0.000000</td>\n",
       "      <td>0.000000</td>\n",
       "      <td>877687.000000</td>\n",
       "    </tr>\n",
       "    <tr>\n",
       "      <th>25%</th>\n",
       "      <td>28.000000</td>\n",
       "      <td>1.500000</td>\n",
       "      <td>2.000000</td>\n",
       "      <td>1.000000</td>\n",
       "      <td>0.000000</td>\n",
       "      <td>1.000000</td>\n",
       "      <td>888787.000000</td>\n",
       "    </tr>\n",
       "    <tr>\n",
       "      <th>50%</th>\n",
       "      <td>32.000000</td>\n",
       "      <td>2.000000</td>\n",
       "      <td>3.000000</td>\n",
       "      <td>2.000000</td>\n",
       "      <td>0.000000</td>\n",
       "      <td>2.000000</td>\n",
       "      <td>891654.000000</td>\n",
       "    </tr>\n",
       "    <tr>\n",
       "      <th>75%</th>\n",
       "      <td>38.000000</td>\n",
       "      <td>2.500000</td>\n",
       "      <td>4.000000</td>\n",
       "      <td>2.000000</td>\n",
       "      <td>2.000000</td>\n",
       "      <td>3.000000</td>\n",
       "      <td>912515.000000</td>\n",
       "    </tr>\n",
       "    <tr>\n",
       "      <th>max</th>\n",
       "      <td>62.000000</td>\n",
       "      <td>5.000000</td>\n",
       "      <td>10.000000</td>\n",
       "      <td>6.000000</td>\n",
       "      <td>6.000000</td>\n",
       "      <td>10.000000</td>\n",
       "      <td>927818.000000</td>\n",
       "    </tr>\n",
       "  </tbody>\n",
       "</table>\n",
       "</div>"
      ],
      "text/plain": [
       "               Age  Num Bathrooms  Num Bedrooms     Num Cars  Num Children  \\\n",
       "count  3085.000000    3085.000000   3085.000000  3085.000000   3085.000000   \n",
       "mean     33.156240       2.096759      2.878444     1.682658      0.806483   \n",
       "std       7.239346       0.812988      1.150117     0.802138      1.111995   \n",
       "min      20.000000       0.500000      1.000000     0.000000      0.000000   \n",
       "25%      28.000000       1.500000      2.000000     1.000000      0.000000   \n",
       "50%      32.000000       2.000000      3.000000     2.000000      0.000000   \n",
       "75%      38.000000       2.500000      4.000000     2.000000      2.000000   \n",
       "max      62.000000       5.000000     10.000000     6.000000      6.000000   \n",
       "\n",
       "           Num TVs     CustomerID  \n",
       "count  3085.000000    3085.000000  \n",
       "mean      2.098865  897854.733225  \n",
       "std       1.230140   12692.682200  \n",
       "min       0.000000  877687.000000  \n",
       "25%       1.000000  888787.000000  \n",
       "50%       2.000000  891654.000000  \n",
       "75%       3.000000  912515.000000  \n",
       "max      10.000000  927818.000000  "
      ]
     },
     "execution_count": 4,
     "metadata": {},
     "output_type": "execute_result"
    }
   ],
   "source": [
    "### Descriptive statistics for continous variables\n",
    "owner.describe()"
   ]
  },
  {
   "cell_type": "code",
   "execution_count": 6,
   "id": "9e2110b0",
   "metadata": {
    "ExecuteTime": {
     "end_time": "2023-02-20T01:36:06.009595Z",
     "start_time": "2023-02-20T01:36:05.985263Z"
    }
   },
   "outputs": [
    {
     "data": {
      "text/html": [
       "<div>\n",
       "<style scoped>\n",
       "    .dataframe tbody tr th:only-of-type {\n",
       "        vertical-align: middle;\n",
       "    }\n",
       "\n",
       "    .dataframe tbody tr th {\n",
       "        vertical-align: top;\n",
       "    }\n",
       "\n",
       "    .dataframe thead th {\n",
       "        text-align: right;\n",
       "    }\n",
       "</style>\n",
       "<table border=\"1\" class=\"dataframe\">\n",
       "  <thead>\n",
       "    <tr style=\"text-align: right;\">\n",
       "      <th></th>\n",
       "      <th>Column</th>\n",
       "      <th>Unique Values</th>\n",
       "    </tr>\n",
       "  </thead>\n",
       "  <tbody>\n",
       "    <tr>\n",
       "      <th>0</th>\n",
       "      <td>Gender</td>\n",
       "      <td>[Male, Female]</td>\n",
       "    </tr>\n",
       "    <tr>\n",
       "      <th>1</th>\n",
       "      <td>Internet Connection</td>\n",
       "      <td>[Dial-Up, DSL, Cable Modem, No Internet Connection, Other, IDSN]</td>\n",
       "    </tr>\n",
       "    <tr>\n",
       "      <th>2</th>\n",
       "      <td>Marital Status</td>\n",
       "      <td>[Married, Divorced, Never Married, Separated, Other]</td>\n",
       "    </tr>\n",
       "    <tr>\n",
       "      <th>3</th>\n",
       "      <td>Movie Selector</td>\n",
       "      <td>[Spouse/Partner, Me, Other, Children]</td>\n",
       "    </tr>\n",
       "    <tr>\n",
       "      <th>4</th>\n",
       "      <td>Prerec Format</td>\n",
       "      <td>[DVD, VHS, Betamax, Laserdisk, Video CD, Other]</td>\n",
       "    </tr>\n",
       "    <tr>\n",
       "      <th>5</th>\n",
       "      <td>TV Signal</td>\n",
       "      <td>[Cable, Digital Satellite, Analog antennae, Don't watch TV, Analog Satellite]</td>\n",
       "    </tr>\n",
       "    <tr>\n",
       "      <th>6</th>\n",
       "      <td>Education Level</td>\n",
       "      <td>[Doctorate, Bachelor's Degree, Master's Degree, Associate's Degree, Some College, Post-Doc, Trade School, High School, Grade School]</td>\n",
       "    </tr>\n",
       "    <tr>\n",
       "      <th>7</th>\n",
       "      <td>PPV Freq</td>\n",
       "      <td>[Rarely, Never, Monthly, Weekly, Daily]</td>\n",
       "    </tr>\n",
       "    <tr>\n",
       "      <th>8</th>\n",
       "      <td>Theater Freq</td>\n",
       "      <td>[Monthly, Rarely, Weekly, Never, Daily]</td>\n",
       "    </tr>\n",
       "    <tr>\n",
       "      <th>9</th>\n",
       "      <td>TV Movie Freq</td>\n",
       "      <td>[Monthly, Weekly, Daily, Rarely, Never]</td>\n",
       "    </tr>\n",
       "    <tr>\n",
       "      <th>10</th>\n",
       "      <td>Prerec Buying Freq</td>\n",
       "      <td>[Monthly, Rarely, Never, Weekly, Daily]</td>\n",
       "    </tr>\n",
       "    <tr>\n",
       "      <th>11</th>\n",
       "      <td>Prerec Renting Freq</td>\n",
       "      <td>[Rarely, Monthly, Weekly, Never, Daily]</td>\n",
       "    </tr>\n",
       "    <tr>\n",
       "      <th>12</th>\n",
       "      <td>Prerec Viewing Freq</td>\n",
       "      <td>[Monthly, Weekly, Rarely, Daily, Never]</td>\n",
       "    </tr>\n",
       "  </tbody>\n",
       "</table>\n",
       "</div>"
      ],
      "text/plain": [
       "                 Column  \\\n",
       "0                Gender   \n",
       "1   Internet Connection   \n",
       "2        Marital Status   \n",
       "3        Movie Selector   \n",
       "4         Prerec Format   \n",
       "5             TV Signal   \n",
       "6       Education Level   \n",
       "7              PPV Freq   \n",
       "8          Theater Freq   \n",
       "9         TV Movie Freq   \n",
       "10   Prerec Buying Freq   \n",
       "11  Prerec Renting Freq   \n",
       "12  Prerec Viewing Freq   \n",
       "\n",
       "                                                                                                                           Unique Values  \n",
       "0                                                                                                                         [Male, Female]  \n",
       "1                                                                       [Dial-Up, DSL, Cable Modem, No Internet Connection, Other, IDSN]  \n",
       "2                                                                                   [Married, Divorced, Never Married, Separated, Other]  \n",
       "3                                                                                                  [Spouse/Partner, Me, Other, Children]  \n",
       "4                                                                                        [DVD, VHS, Betamax, Laserdisk, Video CD, Other]  \n",
       "5                                                          [Cable, Digital Satellite, Analog antennae, Don't watch TV, Analog Satellite]  \n",
       "6   [Doctorate, Bachelor's Degree, Master's Degree, Associate's Degree, Some College, Post-Doc, Trade School, High School, Grade School]  \n",
       "7                                                                                                [Rarely, Never, Monthly, Weekly, Daily]  \n",
       "8                                                                                                [Monthly, Rarely, Weekly, Never, Daily]  \n",
       "9                                                                                                [Monthly, Weekly, Daily, Rarely, Never]  \n",
       "10                                                                                               [Monthly, Rarely, Never, Weekly, Daily]  \n",
       "11                                                                                               [Rarely, Monthly, Weekly, Never, Daily]  \n",
       "12                                                                                               [Monthly, Weekly, Rarely, Daily, Never]  "
      ]
     },
     "execution_count": 6,
     "metadata": {},
     "output_type": "execute_result"
    }
   ],
   "source": [
    "### Possiable values for discrete variables\n",
    "# set display option\n",
    "pandas.set_option('max_colwidth', None)\n",
    "# categorical features\n",
    "oneHotColumns = [\n",
    "    'Gender', 'Internet Connection', 'Marital Status',\n",
    "    'Movie Selector', 'Prerec Format', 'TV Signal', \n",
    "    'Education Level', 'PPV Freq', 'Theater Freq', \n",
    "    'TV Movie Freq', 'Prerec Buying Freq', \n",
    "    'Prerec Renting Freq', 'Prerec Viewing Freq'\n",
    "]\n",
    "\n",
    "# store the categorical feature\n",
    "unique_values = {}\n",
    "for column in oneHotColumns:\n",
    "    unique_values[column] = owner[column].unique()\n",
    "result_df = pandas.DataFrame(list(unique_values.items()), columns=[\"Column\", \"Unique Values\"])\n",
    "result_df"
   ]
  },
  {
   "cell_type": "markdown",
   "id": "6001a72c",
   "metadata": {},
   "source": [
    "### Data Transformation\n",
    "\n"
   ]
  },
  {
   "cell_type": "markdown",
   "id": "ef0bf1c6",
   "metadata": {},
   "source": [
    "Since there are many **string variables** in the dataset, we need to transform them for later processing. \n",
    "\n",
    " - One transformation method is the **label encoding**. It is a **direct numeric representation of a string variable**. The values for the different values of the variable will be determined in the order in which they appear in the dataset. **We will use this coding method for our exploratory data analysis**.\n",
    "<img src='https://miro.medium.com/v2/resize:fit:1400/format:webp/1*ZFCX83XaMNzOAXRxAcvMJw.png' width=600>\n",
    "\n",
    " - Another way to convert is the **one-hot encoding** we discussed in the early tutorial. We first **separate** the string variables from the numeric variable,  and then **train** the one-hot encoder with the string variable to get the transformation rules and **encode** them. We then **combine** the encoded data with the numeric variable to create our explanatory dataframe. The response variable  remains in string format, as this does not affect our analysis. **We will use this encoding for logistic regression**."
   ]
  },
  {
   "cell_type": "code",
   "execution_count": null,
   "id": "9357cc44",
   "metadata": {
    "ExecuteTime": {
     "end_time": "2023-02-20T01:34:57.180971Z",
     "start_time": "2023-02-20T01:34:57.180963Z"
    }
   },
   "outputs": [],
   "source": [
    "### One-hot encoding\n",
    "# categorical features\n",
    "oneHotColumns = [\n",
    "    'Gender', 'Internet Connection', 'Marital Status',\n",
    "    'Movie Selector', 'Prerec Format', 'TV Signal', \n",
    "    'Education Level', 'PPV Freq', 'Theater Freq', \n",
    "    'TV Movie Freq', 'Prerec Buying Freq', \n",
    "    'Prerec Renting Freq', 'Prerec Viewing Freq'\n",
    "]\n",
    "# numerical features\n",
    "numericColumns = [\n",
    "    'Age', 'Num Bathrooms', \n",
    "    'Num Bedrooms', 'Num Cars', \n",
    "    'Num Children', 'Num TVs'\n",
    "]\n",
    "\n",
    "# import OneHotEncoder module\n",
    "from sklearn.preprocessing import OneHotEncoder\n",
    "# build a OneHotEncoder object\n",
    "oneHotEncoder = OneHotEncoder()\n",
    "# called on the encoder object to learn the encoding rules\n",
    "oneHotEncoder.fit(owner[oneHotColumns])\n",
    "# produce a one-hot encoded representation of the categorical features\n",
    "oneHotData = oneHotEncoder.transform(owner[oneHotColumns])\n",
    "\n",
    "from scipy.sparse import hstack\n",
    "# horizontally stack the one-hot encoded data with the numerical data\n",
    "x = hstack([\n",
    "    oneHotData, \n",
    "    owner[numericColumns].astype(float).values\n",
    "])\n",
    "# response variable\n",
    "y = owner['Home Ownership']"
   ]
  },
  {
   "cell_type": "code",
   "execution_count": null,
   "id": "52d681d0",
   "metadata": {
    "ExecuteTime": {
     "end_time": "2023-02-20T01:34:57.181627Z",
     "start_time": "2023-02-20T01:34:57.181620Z"
    },
    "scrolled": false
   },
   "outputs": [],
   "source": [
    "### Label encoder\n",
    "# import label encoder\n",
    "from sklearn import preprocessing \n",
    "# make an instance of Label Encoder\n",
    "label_encoder = preprocessing.LabelEncoder()\n",
    "# make a copy of the original dataframe\n",
    "owner_ecd = owner.copy()\n",
    "# perform label encoding\n",
    "for i in oneHotColumns:\n",
    "    owner_ecd[i] = label_encoder.fit_transform(owner[i])\n",
    "# preview\n",
    "owner_ecd.head()"
   ]
  },
  {
   "cell_type": "markdown",
   "id": "3deb2ced",
   "metadata": {},
   "source": [
    "As you can see, the columns except for the response variable are encoded by 0, 1, 2, ... ..."
   ]
  },
  {
   "cell_type": "markdown",
   "id": "ef96b67a",
   "metadata": {},
   "source": [
    "## Marginal variable analysis"
   ]
  },
  {
   "cell_type": "markdown",
   "id": "fec40f78",
   "metadata": {},
   "source": [
    "### Home Ownership\n",
    "We begin with an analysis of the possible **`Home Ownership`**. In the data set we obtained, there are a total of two possible `Home Ownership`, which is `Own` and `Rent`. Among them, 64.7% of the observations own houses, and the remaining 35.3% of the observations rent houses. This suggests that **our observed data is somewhat imbalanced**, and we need to be careful when building our model and constructing the confusion matrix."
   ]
  },
  {
   "cell_type": "code",
   "execution_count": null,
   "id": "a5ddb3e0",
   "metadata": {
    "ExecuteTime": {
     "end_time": "2023-02-20T01:34:57.182182Z",
     "start_time": "2023-02-20T01:34:57.182175Z"
    }
   },
   "outputs": [],
   "source": [
    "### Use crosstab to get the proportion of label\n",
    "renewal_counts = pandas.crosstab(index=owner[\"Home Ownership\"],\n",
    "                                 columns=\"Proportion\",\n",
    "                                 normalize='all') *100\n",
    "round(renewal_counts,1).astype(str).apply(lambda x:x + '%')"
   ]
  },
  {
   "cell_type": "code",
   "execution_count": null,
   "id": "21cf77d8",
   "metadata": {
    "ExecuteTime": {
     "end_time": "2023-02-20T01:34:57.182986Z",
     "start_time": "2023-02-20T01:34:57.182980Z"
    }
   },
   "outputs": [],
   "source": [
    "### In pie plot\n",
    "plt.pie(renewal_counts['Proportion'], labels = ['Own 64.7%', 'Rent 35.3%']); plt.show()"
   ]
  },
  {
   "cell_type": "markdown",
   "id": "c3158f5e",
   "metadata": {},
   "source": [
    "***\n",
    "The same as the former case study, we will **analyze all the explanatory variables together**, and **select a few variables of interest to explore in more detail**. The goal is to classify the home ownership, so we need to **pay more attention to the relationship between each explanatory variable and the `Home Ownership`**.\n",
    "***"
   ]
  },
  {
   "cell_type": "markdown",
   "id": "487f3380",
   "metadata": {},
   "source": [
    "### Scatter plot matrix\n",
    "In a scatter plot, the **scatter points overlap** when both the X-axis and Y-axis are categorical variables. In this case, the scatter plot loses its meaning. Here, we **only focus on the distribution plots on the diagonal**.\n",
    "\n",
    "In a scatter plot below:\n",
    " - For feature `Age`, **homeowners are significantly older** than renters.   \n",
    " - For feature `martial status`, those with **value 1 (married) have a higher proportion of home ownership** and those with value 2 (unmarried) have a higher proportion of renting.   \n",
    " - For feature `Num Bathroom`, `Num Bedroom`, `Num Cars`, and `Num Children`, **homeowners with larger values (larger numbers)** have a higher proportion of home ownership. These phenomenon are also consistent with the common sense."
   ]
  },
  {
   "cell_type": "code",
   "execution_count": null,
   "id": "ff078b45",
   "metadata": {
    "ExecuteTime": {
     "end_time": "2023-02-20T01:34:57.184081Z",
     "start_time": "2023-02-20T01:34:57.184073Z"
    }
   },
   "outputs": [],
   "source": [
    "# Scatter plot matrices of explanatory variables\n",
    "# it takes about 55 secounds to run\n",
    "sns.set_theme(style=\"ticks\")\n",
    "plt.figure(figsize=(32, 32), dpi=1800)\n",
    "sns.pairplot(owner_ecd, hue=\"Home Ownership\", corner=True)"
   ]
  },
  {
   "cell_type": "markdown",
   "id": "90c7f8a7",
   "metadata": {},
   "source": [
    "### Violin plot of Age, Num Bathrooms, Num Bedrooms, Num Cars and Num Children\n",
    "\n",
    "For the five variables have significant discriminative effects in the above analysis, we draw violin plots to explore their classification effects. \n",
    "\n",
    "The **violin plot** is a popular visualization tool used to display the **distribution** of a dataset.   It is **a combination of a box plot and a kernel density plot**, which resembles a violin.\n",
    "\n",
    "In a violin plot, the **distribution** of the data is **displayed as a kernel density estimate**, with the width of the plot at each point reflecting the density of the data at that point. The **plot also includes a box plot**, which provides information about the quartiles, median, and outliers of the data. The box plot itself is often drawn as a thin line within the thicker violin plot. The resulting plot provides a useful and informative summary of the distribution of the data. \n",
    "\n",
    "***Graph A is the boxplot, Graph B is the violin plot:***\n",
    "\n",
    "<img src='https://www.mdpi.com/mps/mps-03-00064/article_deploy/html/images/mps-03-00064-g001-550.jpg' width=500>"
   ]
  },
  {
   "cell_type": "markdown",
   "id": "d49675ea",
   "metadata": {},
   "source": [
    "**Age:**  \n",
    "As can be seen in the figure, the distribution of Rent is concentrated between **20 and 30 years old**, while the distribution of Own is concentrated between **27 and 40 years old**. The distributions of different classes is different, but there is also **some overlap**."
   ]
  },
  {
   "cell_type": "code",
   "execution_count": null,
   "id": "1a39bf69",
   "metadata": {
    "ExecuteTime": {
     "end_time": "2023-02-20T01:34:57.185127Z",
     "start_time": "2023-02-20T01:34:57.185120Z"
    },
    "scrolled": false
   },
   "outputs": [],
   "source": [
    "# Set the style\n",
    "sns.set(style=\"ticks\")\n",
    "sns.set_style(\"darkgrid\")\n",
    "# plot the violinplot\n",
    "fig, ax = plt.subplots(1, 1, figsize=(6, 3))\n",
    "sns.violinplot(y=\"Home Ownership\", x=\"Age\", data=owner, ax=ax, orient=\"h\")\n",
    "ax.set_title(\"Violin plot of Age Distribution by Home Ownership\", fontsize=14)\n",
    "plt.show()"
   ]
  },
  {
   "cell_type": "markdown",
   "id": "e4dac54c",
   "metadata": {},
   "source": [
    "**Num Bathrooms:**  \n",
    "`Rent` usually only has 1-2 bathrooms, while `Own` usually has 2-4 bathrooms. The distinguishing effect of Bathrooms is relatively obvious, and we will also further observe this variable in the following analysis."
   ]
  },
  {
   "cell_type": "code",
   "execution_count": null,
   "id": "5130bbf6",
   "metadata": {
    "ExecuteTime": {
     "end_time": "2023-02-20T01:34:57.185619Z",
     "start_time": "2023-02-20T01:34:57.185613Z"
    }
   },
   "outputs": [],
   "source": [
    "fig, ax = plt.subplots(1, 1, figsize=(6, 3))\n",
    "sns.violinplot(y=\"Home Ownership\", x=\"Num Bathrooms\", data=owner, ax=ax, orient=\"h\")\n",
    "ax.set_title(\"Violin plot of Number of Bathrooms by Home Ownership\", fontsize=14)\n",
    "plt.show()"
   ]
  },
  {
   "cell_type": "markdown",
   "id": "74f02df7",
   "metadata": {},
   "source": [
    "**Num Bedrooms:**  \n",
    "`Rent` usually has 1-3 bedrooms, and `Own` has 2-4 bathrooms. The distinguishing effect of the `Num Bedrooms` is not as obvious as the `Num Bathrooms`. Notice that `Own` has some outliers on the `Num Bedrooms`."
   ]
  },
  {
   "cell_type": "code",
   "execution_count": null,
   "id": "e9b90cf1",
   "metadata": {
    "ExecuteTime": {
     "end_time": "2023-02-20T01:34:57.186168Z",
     "start_time": "2023-02-20T01:34:57.186162Z"
    }
   },
   "outputs": [],
   "source": [
    "fig, ax = plt.subplots(1, 1, figsize=(6, 3))\n",
    "sns.violinplot(y=\"Home Ownership\", x=\"Num Bedrooms\", data=owner, ax=ax, orient=\"h\")\n",
    "ax.set_title(\"Violin plot of Number of Bedrooms by Home Ownership\", fontsize=14)\n",
    "plt.show()"
   ]
  },
  {
   "cell_type": "markdown",
   "id": "90421667",
   "metadata": {},
   "source": [
    "**Num Cars:**  \n",
    "As for the number of cars owned, `Rent` range between 0-2 cars, while `Own` will typically have 1-3 cars and is unlikely to have no cars. Both `Rent` and `Own` both have some outliers."
   ]
  },
  {
   "cell_type": "code",
   "execution_count": null,
   "id": "3d1f81f6",
   "metadata": {
    "ExecuteTime": {
     "end_time": "2023-02-20T01:34:57.186661Z",
     "start_time": "2023-02-20T01:34:57.186654Z"
    }
   },
   "outputs": [],
   "source": [
    "fig, ax = plt.subplots(1, 1, figsize=(6, 3))\n",
    "sns.violinplot(y=\"Home Ownership\", x=\"Num Cars\", data=owner, ax=ax, orient=\"h\")\n",
    "ax.set_title(\"Violin plot of Number of Cars by Home Ownership\", fontsize=14)\n",
    "plt.show()"
   ]
  },
  {
   "cell_type": "markdown",
   "id": "3d98caff",
   "metadata": {},
   "source": [
    "**Num Children:**  \n",
    "Most `Rent` has no children, and only a few have 1-2 children. While `Own` usually has 0-3 children."
   ]
  },
  {
   "cell_type": "code",
   "execution_count": null,
   "id": "924f6cae",
   "metadata": {
    "ExecuteTime": {
     "end_time": "2023-02-20T01:34:57.187259Z",
     "start_time": "2023-02-20T01:34:57.187250Z"
    }
   },
   "outputs": [],
   "source": [
    "fig, ax = plt.subplots(1, 1, figsize=(6, 3))\n",
    "sns.violinplot(y=\"Home Ownership\", x=\"Num Children\", data=owner, ax=ax, orient=\"h\")\n",
    "ax.set_title(\"Violin plot of Number of Children by Home Ownership\", fontsize=14)\n",
    "plt.show()"
   ]
  },
  {
   "cell_type": "markdown",
   "id": "abeb4f72",
   "metadata": {},
   "source": [
    "### Exploring the Relationships using 3D Scatter Plot\n",
    "The following plot is **interactive**, allowing you to explore the internal structure of the 3D scatter plot by zooming or rotating it with your mouse. We created this plot to investigate the classification effects of the variables `Num Bathrooms`, `Num Children`, and `Num Bedrooms` as an example. By plotting these three dimensions in a 3D scatter plot, we aim to gain insight into the relationship between these variables and potentially identify any patterns or trends that may exist. *You may explore the relationship of other variable pairs.*"
   ]
  },
  {
   "cell_type": "code",
   "execution_count": null,
   "id": "65cbbb30",
   "metadata": {
    "ExecuteTime": {
     "end_time": "2023-02-20T01:34:57.187973Z",
     "start_time": "2023-02-20T01:34:57.187968Z"
    }
   },
   "outputs": [],
   "source": [
    "import plotly.express as px\n",
    "fig = px.scatter_3d(owner, x='Num Bathrooms', y='Num Children', z='Num Bedrooms',\n",
    "              color='Home Ownership')\n",
    "fig.show()"
   ]
  },
  {
   "cell_type": "markdown",
   "id": "422157d8",
   "metadata": {},
   "source": [
    "It can be seen that although there is a certain degree of differentiation between `Rent` and `Own` in space, the overlap between the clusters is serious. This suggests that `Rent` and `Own` are **difficult to distinguish in low-dimensional space using only a few variables**."
   ]
  },
  {
   "cell_type": "markdown",
   "id": "0adbf111",
   "metadata": {},
   "source": [
    "**Conclusion:**\n",
    "    \n",
    " - In the **Data quality** section, we mainly encoded the original dataset. \n",
    "     - We first use the **Label encoder** to transform string variables into numerical variables to facilitate our exploratory data analysis. \n",
    "     - After that we use **One-hot encoder** to encode the string variable into one-hot form, which is convenient for us to perform logistic regression.\n",
    " - In **Marginal variable analysis**:\n",
    "     - for the response variable Home Ownership, we find that there are more samples labeled `Own` than `Rent`，\n",
    "     - for the explanatory variables, we find that `Age`, `Num Bathroom`, `Num Bedroom`, `Num Cars`, and `Num Children` have a good discriminative effect on Home Ownership. We further analyzed the discriminative effect of these variables with **violinplot**. Finally, we used **3D Scatter Plot** to analyze the classification effect of the combination of different variables. We find that **a few variables do not distinguish `Home Ownership` well**.\n"
   ]
  },
  {
   "cell_type": "markdown",
   "id": "276bcb7a",
   "metadata": {},
   "source": [
    "## Data preprocessing\n",
    "For the dataset after one-hot encoding, we only need to split the training set and the test set.\n",
    "\n",
    "### Split the training and testing set"
   ]
  },
  {
   "cell_type": "code",
   "execution_count": null,
   "id": "3f2205ab",
   "metadata": {
    "ExecuteTime": {
     "end_time": "2023-02-20T01:34:57.188431Z",
     "start_time": "2023-02-20T01:34:57.188426Z"
    }
   },
   "outputs": [],
   "source": [
    "# Split the dataset into training set (70%) and testing set (30%), the random_state is used to control randomness\n",
    "from sklearn.model_selection import train_test_split # Import the training and testing dataset splitter\n",
    "x_train, x_test, y_train, y_test = train_test_split(x, y, test_size=0.3, random_state=1)"
   ]
  },
  {
   "cell_type": "markdown",
   "id": "9e443807",
   "metadata": {},
   "source": [
    "# Model building \n",
    "In the following, we will use **logistic regression** to classify the `Home Ownership`."
   ]
  },
  {
   "cell_type": "markdown",
   "id": "c6b83ba5",
   "metadata": {},
   "source": [
    "**Logistic Regression** is a statistical method for analyzing a dataset in which there are **one or more explanatory variables** that determine an outcome. It is used for **binary classification problems** where the dependent variable only has two possible outcomes, such as yes or no, pass or fail, true or false, etc. \n",
    "\n",
    "**Basic idea:** Use a logistic function to **model the probability** of the dependent variable being a certain class. Mathematically, the logistic function can be represented as:\n",
    "\n",
    "$$ \\sigma(z) = \\frac{1}{1 + e^{-z}} $$\n",
    "<img src='https://upload.wikimedia.org/wikipedia/commons/thumb/8/88/Logistic-curve.svg/640px-Logistic-curve.svg.png' width=300>\n",
    "\n",
    "where $z = \\beta_0 + \\beta_1x_{i1} + \\beta_2x_{i2} + ... + \\beta_nx_{in}$, $x_i$ is the vector of independent variables for the $i^{th}$ observation and $\\beta_0, \\beta_1, ..., \\beta_n$ are the coefficients. \n",
    "\n",
    "**Coefficients estimation:** The coefficients are estimated through the **maximum likelihood estimation (MLE) method**.  \n",
    "The MLE method is based on the assumption that the observed data follows a certain probability distribution. In logistic regression, the response variable is binary and **follows a Bernoulli distribution**. The **conditional probability of the response variable** given the predictor variables $x_i$ and the coefficients $\\beta$ can be represented as:\n",
    "\n",
    "$$ p(y_i | x_i, \\beta) = \\sigma(\\beta_0 + \\beta_1x_{i1} + \\beta_2x_{i2} + ... + \\beta_nx_{in})^{y_i} (1 - \\sigma(\\beta_0 + \\beta_1x_{i1} + \\beta_2x_{i2} + ... + \\beta_nx_{in}))^{1-y_i} $$\n",
    "\n",
    "where $y_i$ is the response variable for the $i^{th}$ observation and $\\sigma(z) = \\frac{1}{1 + e^{-z}}$ is the logistic function. $\\sigma(\\beta_0 + \\beta_1x_{i1} + \\beta_2x_{i2} + ... + \\beta_nx_{in})$ is the logistic function, can be interpreted as the probability of $y_i$ being class 1: $P(y_i=1| x_i, \\beta)$.   \n",
    " - $(\\sigma(\\beta_0 + \\beta_1x_{i1} + \\beta_2x_{i2} + ... + \\beta_nx_{in}))^{y_i}$ is equal to 1 if $y_i$ is class 1, and 0 otherwise.   \n",
    " - $(1 - \\sigma(\\beta_0 + \\beta_1x_{i1} + \\beta_2x_{i2} + ... + \\beta_nx_{in}))^{1-y_i}$ is equal to 1 if $y_i$ is class 0, and 0 otherwise.\n",
    "\n",
    "The **likelihood function** is the product of the conditional probabilities of all observations:\n",
    "\n",
    "$$ L(\\beta) = \\prod_{i=1}^{N} p(y_i | x_i, \\beta) $$\n",
    "\n",
    "where $N$ is the number of observations.\n",
    "\n",
    "The **log-likelihood function** is the logarithm of the likelihood function:\n",
    "\n",
    "$$ l(\\beta) = \\ln L(\\beta) = \\sum_{i=1}^{N} \\left[ y_i \\ln(\\sigma(\\beta_0 + \\beta_1x_{i1} + \\beta_2x_{i2} + ... + \\beta_nx_{in})) + (1 - y_i)\\ln(1 - \\sigma(\\beta_0 + \\beta_1x_{i1} + \\beta_2x_{i2} + ... + \\beta_nx_{in}))\\right] $$\n",
    "\n",
    "The coefficients are estimated by finding the values of $\\beta_0, \\beta_1, ..., \\beta_n$ that maximize the log-likelihood function using gradient descent.\n",
    "\n",
    "**Prediction:** Once the coefficients are estimated, the prediction of the dependent variable can be made using the following equation:\n",
    "\n",
    "$$ \\hat{y} = \\begin{cases} 1 & \\text{if } \\sigma(z) \\geq \\tau \\\\ 0 & \\text{if } \\sigma(z) < \\tau \\end{cases} $$\n",
    "\n",
    "The **logistic regression model provides a probability score for each observation**, indicating the **likelihood of it belonging to a certain class**. This score can then be transformed into a binary outcome using a threshold value $\\tau$, usually $\\tau=0.5$. \n",
    "\n",
    "In conclusion, logistic regression is a powerful and widely used machine learning technique for binary classification problems. It is simple to implement, can handle a large number of independent variables, and provides probabilities for each observation, making it easy to interpret and understand the results.\n",
    "\n",
    "In the following analysis, we will build a logistic regression model directly on the training set."
   ]
  },
  {
   "cell_type": "code",
   "execution_count": null,
   "id": "79c13383",
   "metadata": {
    "ExecuteTime": {
     "end_time": "2023-02-20T01:34:57.188962Z",
     "start_time": "2023-02-20T01:34:57.188956Z"
    }
   },
   "outputs": [],
   "source": [
    "from sklearn.linear_model import LogisticRegression  # import the LogisticRegression module\n",
    "from sklearn.model_selection import cross_val_score  # import the cross validation module\n",
    "# build a logistic regression object\n",
    "lrModel = LogisticRegression(solver='newton-cg')\n",
    "# perform the cross validation \n",
    "lrModel.fit(x_train, y_train)\n",
    "# get the Accuracy of the ogistic regression on training data\n",
    "lrModel.score(x_train, y_train)"
   ]
  },
  {
   "cell_type": "markdown",
   "id": "215bf12d",
   "metadata": {},
   "source": [
    "Logistic regression achieves an **Accuracy** of 0.8499 on the training set."
   ]
  },
  {
   "cell_type": "markdown",
   "id": "b59be05f",
   "metadata": {},
   "source": [
    "# Model evaluation (based on testing data)"
   ]
  },
  {
   "cell_type": "markdown",
   "id": "25b659b3",
   "metadata": {},
   "source": [
    "## Accuracy"
   ]
  },
  {
   "cell_type": "code",
   "execution_count": null,
   "id": "07a28ad1",
   "metadata": {
    "ExecuteTime": {
     "end_time": "2023-02-20T01:34:57.189508Z",
     "start_time": "2023-02-20T01:34:57.189502Z"
    },
    "scrolled": true
   },
   "outputs": [],
   "source": [
    "lrModel.score(x_test, y_test)"
   ]
  },
  {
   "cell_type": "markdown",
   "id": "eaf170dc",
   "metadata": {},
   "source": [
    "On the **testing set**, the logistic regression **Accuracy is 0.8369**. The Accuracy vary only a little compared to the training set. This indicates that the **generalization ability** of our logistic regression is relatively **strong**."
   ]
  },
  {
   "cell_type": "markdown",
   "id": "24400577",
   "metadata": {},
   "source": [
    "## Confusion matrices\n",
    "The confusion matrix is a table used to evaluate the performance of a classifier. It shows the number or the proportion of correct and incorrect predictions made by the classifier for each class. The matrix is usually presented as a 2x2 table for binary classification problems, where one class represents `Rent` (1) class and the other class represents `Own` (0) class. The **rows** in the table represent the **actual** class, while the **columns** represent the **predicted** class. "
   ]
  },
  {
   "cell_type": "code",
   "execution_count": null,
   "id": "4df0bf25",
   "metadata": {
    "ExecuteTime": {
     "end_time": "2023-02-20T01:34:57.190101Z",
     "start_time": "2023-02-20T01:34:57.190095Z"
    }
   },
   "outputs": [],
   "source": [
    "# Define a function to calculate the confusion matrix\n",
    "from sklearn.metrics import confusion_matrix # import confusion matrix module\n",
    "def calculate_confusion_matrix(y_true, y_pred, labels):\n",
    "    confu_mat = pandas.DataFrame(confusion_matrix(y_true, y_pred,\n",
    "                                                  normalize=None,  # calculate the proportion\n",
    "                                                  labels=labels))  # pos label = True\n",
    "    return round(confu_mat, 2).astype(str)  # formatting the output\n",
    "# Confusion matrix of KNN mdel with k=17\n",
    "calculate_confusion_matrix(y_test, lrModel.predict(x_test), labels=['Own', 'Rent'])"
   ]
  },
  {
   "cell_type": "markdown",
   "id": "5075c74c",
   "metadata": {},
   "source": [
    "For the following confusion matrix, 0 means label=Own and 1 means label=Rent. The logistic regression classifier misclassified 64 out of 589 samples (10.87%) with label=Own to label=Rent and 87 out of 337 samples (25.82%) with label=Rent to label=Own. In general, the logistic regression classifier has a **strong ability to identify samples with label=Own**."
   ]
  },
  {
   "cell_type": "markdown",
   "id": "c275ee94",
   "metadata": {},
   "source": [
    "# Summary report\n",
    "## Context\n",
    "The impetus for this case study originated from a city government department in China, which sought to determine the ownership status of real estate within the city. However, conducting a household census can be prohibitively expensive. Therefore, the government aimed to **predict real estate ownership** status using **data related to the properties** instead.\n",
    "\n",
    "## Objectives\n",
    "This case study aims to **predict the home ownership of real estate** using **logistic regression** based on the data related to the house.\n",
    "\n",
    "## Organisation of the data\n",
    "The dataset consists of 21 columns including the response variable, Home Ownership.  It has 7 numerical columns and 14 categorical columns. The dataset contains 3085 rows (samples) with each row representing a different house owner. The features include age, education level, gender, internet connection, marital status, number of bathrooms, number of bedrooms, number of cars, number of children, number of televisions, PPV frequency, pre-recorded movie buying frequency, pre-recorded movie format, pre-recorded movie renting frequency, pre-recorded movie viewing frequency, customer ID, theater frequency, TV movie frequency, and TV signal type.  The range of each feature is also given in the table provided. We will use this dataset to predict the home ownership of the house owners."
   ]
  },
  {
   "cell_type": "markdown",
   "id": "fdacc8aa",
   "metadata": {},
   "source": [
    "## Exploratory data analysis\n",
    "During the exploratory data analysis, we assessed the quality of the data by performing various operations such as data cleaning, data validation, and data transformation. We then conducted marginal variable analysis to investigate the impact of different variables on the classification of home ownership.\n",
    " - In the **Data quality** section, we mainly encoded the original dataset. \n",
    "     - We first use the **Label encoder** to transform string variables into numerical variables to facilitate our exploratory data analysis. \n",
    "     - After that we use **One-hot encoder** to encode the string variable into one-hot form, which is convenient for us to perform logistic regression.\n",
    " - In **Marginal variable analysis**:\n",
    "     - for the response variable Home Ownership, we find that there are more samples labeled `Own` than `Rent`，\n",
    "     - for the explanatory variables, we find that `Age`, `Num Bathroom`, `Num Bedroom`, `Num Cars`, and `Num Children` have a good discriminative effect on Home Ownership. We further analyzed the discriminative effect of these variables with **violinplot**. Finally, we used **3D Scatter Plot** to analyze the classification effect of the combination of different variables. We find that **a few variables do not distinguish `Home Ownership` well**."
   ]
  },
  {
   "cell_type": "markdown",
   "id": "69666810",
   "metadata": {},
   "source": [
    "##  Model specification\n",
    "The aim of our study is to devise a **binary** classification model capable of predicting whether a house is owned by its resident. The features are encoded in **one-hot format**, making **logistic regression** a suitable method for classification"
   ]
  },
  {
   "cell_type": "markdown",
   "id": "07e20554",
   "metadata": {},
   "source": [
    " ## Model evaluation\n",
    "30% of the observations are reserved for model evaluation. In the present study, the logistic regression classifier was evaluated using both **training and test sets**, and the corresponding **Accuracy** scores were found to be **0.8499 and 0.8369**, respectively. The results indicate that the accuracy of the classifier is not significantly reduced by the dataset transformation, thereby reflecting its **robust generalization ability**. The confusion matrix analysis revealed that 10.87% of the negative samples were misclassified, while 25.82% of the positive samples were misclassified. These findings suggest that the logistic regression classifier is **proficient at identifying samples with a `Own` label**."
   ]
  }
 ],
 "metadata": {
  "kernelspec": {
   "display_name": "Python 3 (ipykernel)",
   "language": "python",
   "name": "python3"
  },
  "language_info": {
   "codemirror_mode": {
    "name": "ipython",
    "version": 3
   },
   "file_extension": ".py",
   "mimetype": "text/x-python",
   "name": "python",
   "nbconvert_exporter": "python",
   "pygments_lexer": "ipython3",
   "version": "3.9.12"
  },
  "latex_envs": {
   "LaTeX_envs_menu_present": true,
   "autoclose": true,
   "autocomplete": true,
   "bibliofile": "biblio.bib",
   "cite_by": "apalike",
   "current_citInitial": 1,
   "eqLabelWithNumbers": true,
   "eqNumInitial": 1,
   "hotkeys": {
    "equation": "Ctrl-E",
    "itemize": "Ctrl-I"
   },
   "labels_anchors": false,
   "latex_user_defs": false,
   "report_style_numbering": false,
   "user_envs_cfg": false
  },
  "toc": {
   "base_numbering": 1,
   "nav_menu": {},
   "number_sections": true,
   "sideBar": true,
   "skip_h1_title": false,
   "title_cell": "Table of Contents",
   "title_sidebar": "Contents",
   "toc_cell": false,
   "toc_position": {
    "height": "calc(100% - 180px)",
    "left": "10px",
    "top": "150px",
    "width": "165px"
   },
   "toc_section_display": true,
   "toc_window_display": true
  },
  "varInspector": {
   "cols": {
    "lenName": 16,
    "lenType": 16,
    "lenVar": "64"
   },
   "kernels_config": {
    "python": {
     "delete_cmd_postfix": "",
     "delete_cmd_prefix": "del ",
     "library": "var_list.py",
     "varRefreshCmd": "print(var_dic_list())"
    },
    "r": {
     "delete_cmd_postfix": ") ",
     "delete_cmd_prefix": "rm(",
     "library": "var_list.r",
     "varRefreshCmd": "cat(var_dic_list()) "
    }
   },
   "types_to_exclude": [
    "module",
    "function",
    "builtin_function_or_method",
    "instance",
    "_Feature"
   ],
   "window_display": false
  }
 },
 "nbformat": 4,
 "nbformat_minor": 5
}
