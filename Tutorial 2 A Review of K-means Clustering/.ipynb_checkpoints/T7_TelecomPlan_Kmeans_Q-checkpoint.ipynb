{
 "cells": [
  {
   "cell_type": "markdown",
   "id": "59e1f539",
   "metadata": {},
   "source": [
    "***\n",
    "**Tutorial 7 for Chapter 2**\n",
    "\n",
    "Case study 9: Telecom Plan Customization by K-means\n",
    "***\n",
    "<font color = 'darkred'>*Reference:*\n",
    "<font color = 'darkred'>*数据挖掘原理与应用*\n",
    "\n",
    "<!-- Acknowledgement:  \n",
    "**i2DM (Tan, Steinbach, Kumar (2018) Introduction to Data Mining , 2nd Ed, Pearson )** Pearson Press   -->\n",
    "For the course AMA546 Statistical Data Mining   \n",
    "Lecturer: Dr. Catherine Liu    \n",
    "AMA, PolyU, HKSAR"
   ]
  },
  {
   "cell_type": "markdown",
   "id": "7cc484d9",
   "metadata": {},
   "source": [
    "# Objectives of the analysis\n",
    "This case study looks at **clustering customers using their call records in a month** to customize different telecom plans for them. In this study, we will perform clustering using the **K-means** method. The attributes are call duration in different time periods, recorded in **minutes**.\n",
    "\n",
    "# Description of the data \n",
    "There are **3395 rows (samples)** and 7 columns in the dataset. The `CustomerID` column is the unique identifier of each customer, which is useless in the clustering. Thus the **total number of attributes is 6**."
   ]
  },
  {
   "cell_type": "code",
   "execution_count": 4,
   "id": "758da068",
   "metadata": {
    "ExecuteTime": {
     "end_time": "2023-03-19T15:40:57.848428Z",
     "start_time": "2023-03-19T15:40:57.805522Z"
    },
    "scrolled": false
   },
   "outputs": [
    {
     "name": "stdout",
     "output_type": "stream",
     "text": [
      "(3395, 7)\n"
     ]
    },
    {
     "data": {
      "text/html": [
       "<div>\n",
       "<style scoped>\n",
       "    .dataframe tbody tr th:only-of-type {\n",
       "        vertical-align: middle;\n",
       "    }\n",
       "\n",
       "    .dataframe tbody tr th {\n",
       "        vertical-align: top;\n",
       "    }\n",
       "\n",
       "    .dataframe thead th {\n",
       "        text-align: right;\n",
       "    }\n",
       "</style>\n",
       "<table border=\"1\" class=\"dataframe\">\n",
       "  <thead>\n",
       "    <tr style=\"text-align: right;\">\n",
       "      <th></th>\n",
       "      <th>0</th>\n",
       "      <th>1</th>\n",
       "      <th>2</th>\n",
       "      <th>3</th>\n",
       "      <th>4</th>\n",
       "    </tr>\n",
       "  </thead>\n",
       "  <tbody>\n",
       "    <tr>\n",
       "      <th>CustomerID</th>\n",
       "      <td>K100050</td>\n",
       "      <td>K100120</td>\n",
       "      <td>K100170</td>\n",
       "      <td>K100390</td>\n",
       "      <td>K100450</td>\n",
       "    </tr>\n",
       "    <tr>\n",
       "      <th>Workday_working_call_duration</th>\n",
       "      <td>40.61</td>\n",
       "      <td>68.12</td>\n",
       "      <td>100.2</td>\n",
       "      <td>55.8</td>\n",
       "      <td>58.63</td>\n",
       "    </tr>\n",
       "    <tr>\n",
       "      <th>Workday_after_work_call_duration</th>\n",
       "      <td>18.82</td>\n",
       "      <td>33.88</td>\n",
       "      <td>31.5</td>\n",
       "      <td>18.0</td>\n",
       "      <td>9.09</td>\n",
       "    </tr>\n",
       "    <tr>\n",
       "      <th>Weekend_call_duration</th>\n",
       "      <td>1.23</td>\n",
       "      <td>8.33</td>\n",
       "      <td>9.0</td>\n",
       "      <td>19.2</td>\n",
       "      <td>11.31</td>\n",
       "    </tr>\n",
       "    <tr>\n",
       "      <th>International_call_duration</th>\n",
       "      <td>4.47</td>\n",
       "      <td>13.42</td>\n",
       "      <td>4.86</td>\n",
       "      <td>5.62</td>\n",
       "      <td>5.06</td>\n",
       "    </tr>\n",
       "    <tr>\n",
       "      <th>Total_call_duration</th>\n",
       "      <td>60.67</td>\n",
       "      <td>110.34</td>\n",
       "      <td>140.7</td>\n",
       "      <td>93.0</td>\n",
       "      <td>79.03</td>\n",
       "    </tr>\n",
       "    <tr>\n",
       "      <th>Average_call_duration</th>\n",
       "      <td>1.29</td>\n",
       "      <td>1.07</td>\n",
       "      <td>1.67</td>\n",
       "      <td>3.44</td>\n",
       "      <td>2.26</td>\n",
       "    </tr>\n",
       "  </tbody>\n",
       "</table>\n",
       "</div>"
      ],
      "text/plain": [
       "                                        0        1        2        3        4\n",
       "CustomerID                        K100050  K100120  K100170  K100390  K100450\n",
       "Workday_working_call_duration       40.61    68.12    100.2     55.8    58.63\n",
       "Workday_after_work_call_duration    18.82    33.88     31.5     18.0     9.09\n",
       "Weekend_call_duration                1.23     8.33      9.0     19.2    11.31\n",
       "International_call_duration          4.47    13.42     4.86     5.62     5.06\n",
       "Total_call_duration                 60.67   110.34    140.7     93.0    79.03\n",
       "Average_call_duration                1.29     1.07     1.67     3.44     2.26"
      ]
     },
     "metadata": {},
     "output_type": "display_data"
    }
   ],
   "source": [
    "import pandas\n",
    "import numpy as np\n",
    "\n",
    "# Load the data\n",
    "call_record = pandas.read_csv('call_record.csv',engine='python')\n",
    "print(call_record.shape)  # number of rows and columns\n",
    "display(np.transpose(call_record.head()))  # display the table"
   ]
  }
 ],
 "metadata": {
  "kernelspec": {
   "display_name": "Python 3 (ipykernel)",
   "language": "python",
   "name": "python3"
  },
  "language_info": {
   "codemirror_mode": {
    "name": "ipython",
    "version": 3
   },
   "file_extension": ".py",
   "mimetype": "text/x-python",
   "name": "python",
   "nbconvert_exporter": "python",
   "pygments_lexer": "ipython3",
   "version": "3.9.12"
  },
  "latex_envs": {
   "LaTeX_envs_menu_present": true,
   "autoclose": true,
   "autocomplete": true,
   "bibliofile": "biblio.bib",
   "cite_by": "apalike",
   "current_citInitial": 1,
   "eqLabelWithNumbers": true,
   "eqNumInitial": 1,
   "hotkeys": {
    "equation": "Ctrl-E",
    "itemize": "Ctrl-I"
   },
   "labels_anchors": false,
   "latex_user_defs": false,
   "report_style_numbering": false,
   "user_envs_cfg": false
  },
  "toc": {
   "base_numbering": 1,
   "nav_menu": {},
   "number_sections": true,
   "sideBar": true,
   "skip_h1_title": false,
   "title_cell": "Table of Contents",
   "title_sidebar": "Contents",
   "toc_cell": false,
   "toc_position": {},
   "toc_section_display": true,
   "toc_window_display": false
  },
  "varInspector": {
   "cols": {
    "lenName": 16,
    "lenType": 16,
    "lenVar": "64"
   },
   "kernels_config": {
    "python": {
     "delete_cmd_postfix": "",
     "delete_cmd_prefix": "del ",
     "library": "var_list.py",
     "varRefreshCmd": "print(var_dic_list())"
    },
    "r": {
     "delete_cmd_postfix": ") ",
     "delete_cmd_prefix": "rm(",
     "library": "var_list.r",
     "varRefreshCmd": "cat(var_dic_list()) "
    }
   },
   "types_to_exclude": [
    "module",
    "function",
    "builtin_function_or_method",
    "instance",
    "_Feature"
   ],
   "window_display": false
  }
 },
 "nbformat": 4,
 "nbformat_minor": 5
}
