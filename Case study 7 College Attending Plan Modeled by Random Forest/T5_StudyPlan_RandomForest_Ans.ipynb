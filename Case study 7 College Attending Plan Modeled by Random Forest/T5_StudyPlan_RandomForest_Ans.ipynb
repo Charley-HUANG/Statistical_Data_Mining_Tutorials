{
 "cells": [
  {
   "cell_type": "markdown",
   "id": "9a482f50",
   "metadata": {},
   "source": [
    "***\n",
    "**Tutorial 5 for Chapter 2**\n",
    "\n",
    "Case study 7: College Attending Plan Modeled by Random Forest\n",
    "***\n",
    "<font color = 'darkred'>*Reference:*\n",
    "<font color = 'darkred'>*Python数据挖掘实战*\n",
    "\n",
    "<!-- Acknowledgement:  \n",
    "**i2DM (Tan, Steinbach, Kumar (2018) Introduction to Data Mining , 2nd Ed, Pearson )** Pearson Press   -->\n",
    "For the course AMA546 Statistical Data Mining   \n",
    "Lecturer: Dr. Catherine Liu    \n",
    "AMA, PolyU, HKSAR"
   ]
  },
  {
   "cell_type": "code",
   "execution_count": 96,
   "id": "0323c97c",
   "metadata": {
    "ExecuteTime": {
     "end_time": "2023-02-24T10:00:12.044570Z",
     "start_time": "2023-02-24T10:00:12.036066Z"
    }
   },
   "outputs": [],
   "source": [
    "import pandas\n",
    "import numpy as np\n",
    "from sklearn.preprocessing import OneHotEncoder # Import one-hot encoder\n",
    "from scipy.sparse import hstack # Import hstack to stack the data\n",
    "from sklearn.tree import DecisionTreeClassifier # Import the decision tree classifier\n",
    "from sklearn.tree import plot_tree # Impor the tree plot module to plot the decision tree\n",
    "from sklearn.model_selection import GridSearchCV\n",
    "import matplotlib.pyplot as plt # Import plot module"
   ]
  },
  {
   "cell_type": "markdown",
   "id": "aefb1133",
   "metadata": {
    "ExecuteTime": {
     "end_time": "2023-02-24T02:47:58.766490Z",
     "start_time": "2023-02-24T02:47:58.760015Z"
    }
   },
   "source": [
    "***Contents***\n",
    "1. Objectives of the analysis\n",
    "2. Description of the data\n",
    "3. Exploratory data analysis (based on original dataset)\n",
    "  - 3.1 Data quality (No need in our case)\n",
    "    - 3.1.1 Data Cleaning\n",
    "    - 3.1.2 Data Validation\n",
    "    - 3.1.3 Data Transformation\n",
    "  - 3.2 Marginal variable analysis\n",
    "    - 3.2.1 Gender\n",
    "    - 3.2.2 Encourage\n",
    "  - 3.3 Parent income & lQ\n",
    "4. Data preprocessing\n",
    "  - 3.4.1 Split the training and testing set\n",
    "5. Model building\n",
    "6. Model comparison\n",
    "  - 5.1 Accuracy\n",
    "  - 5.2 Confusion matrices\n",
    "  - 5.3 ROC curve and AUC\n",
    "7. Summary report\n",
    "  - 6.1 Objectives\n",
    "  - 6.2 Organisation of the data\n",
    "  - 6.3 Exploratory data analysis:\n",
    "  - 6.4 Model specification\n",
    "  - 6.5 Model comparison"
   ]
  },
  {
   "cell_type": "markdown",
   "id": "1abbc303",
   "metadata": {},
   "source": [
    "# Objectives of the analysis"
   ]
  },
  {
   "cell_type": "markdown",
   "id": "f27f6bc3",
   "metadata": {},
   "source": [
    "The case study deals with the college attending plan problem which was previously discussed in **Case Study 1**, where we applied the **Decision Tree** model. In this study, we will utilize the **Random Forest** model, an ensembled version of the Decision Tree model, to make predictions."
   ]
  },
  {
   "cell_type": "markdown",
   "id": "db0f4653",
   "metadata": {},
   "source": [
    "# Description of the data "
   ]
  },
  {
   "cell_type": "code",
   "execution_count": 132,
   "id": "e13f0a5c",
   "metadata": {
    "ExecuteTime": {
     "end_time": "2023-02-24T15:39:23.447083Z",
     "start_time": "2023-02-24T15:39:23.328603Z"
    }
   },
   "outputs": [
    {
     "data": {
      "text/html": [
       "<div>\n",
       "<style scoped>\n",
       "    .dataframe tbody tr th:only-of-type {\n",
       "        vertical-align: middle;\n",
       "    }\n",
       "\n",
       "    .dataframe tbody tr th {\n",
       "        vertical-align: top;\n",
       "    }\n",
       "\n",
       "    .dataframe thead th {\n",
       "        text-align: right;\n",
       "    }\n",
       "</style>\n",
       "<table border=\"1\" class=\"dataframe\">\n",
       "  <thead>\n",
       "    <tr style=\"text-align: right;\">\n",
       "      <th></th>\n",
       "      <th>StudentID</th>\n",
       "      <th>Gender</th>\n",
       "      <th>Parent_income</th>\n",
       "      <th>IQ</th>\n",
       "      <th>Encourage</th>\n",
       "      <th>Plan</th>\n",
       "    </tr>\n",
       "  </thead>\n",
       "  <tbody>\n",
       "    <tr>\n",
       "      <th>0</th>\n",
       "      <td>4558</td>\n",
       "      <td>male</td>\n",
       "      <td>53900</td>\n",
       "      <td>118</td>\n",
       "      <td>encourage</td>\n",
       "      <td>plan</td>\n",
       "    </tr>\n",
       "    <tr>\n",
       "      <th>1</th>\n",
       "      <td>4561</td>\n",
       "      <td>female</td>\n",
       "      <td>24900</td>\n",
       "      <td>87</td>\n",
       "      <td>not encourage</td>\n",
       "      <td>not plan</td>\n",
       "    </tr>\n",
       "    <tr>\n",
       "      <th>2</th>\n",
       "      <td>4563</td>\n",
       "      <td>female</td>\n",
       "      <td>65800</td>\n",
       "      <td>93</td>\n",
       "      <td>not encourage</td>\n",
       "      <td>not plan</td>\n",
       "    </tr>\n",
       "    <tr>\n",
       "      <th>3</th>\n",
       "      <td>4565</td>\n",
       "      <td>male</td>\n",
       "      <td>11440</td>\n",
       "      <td>117</td>\n",
       "      <td>encourage</td>\n",
       "      <td>plan</td>\n",
       "    </tr>\n",
       "    <tr>\n",
       "      <th>4</th>\n",
       "      <td>4567</td>\n",
       "      <td>female</td>\n",
       "      <td>16700</td>\n",
       "      <td>102</td>\n",
       "      <td>not encourage</td>\n",
       "      <td>not plan</td>\n",
       "    </tr>\n",
       "  </tbody>\n",
       "</table>\n",
       "</div>"
      ],
      "text/plain": [
       "   StudentID  Gender  Parent_income   IQ      Encourage      Plan\n",
       "0       4558    male          53900  118      encourage      plan\n",
       "1       4561  female          24900   87  not encourage  not plan\n",
       "2       4563  female          65800   93  not encourage  not plan\n",
       "3       4565    male          11440  117      encourage      plan\n",
       "4       4567  female          16700  102  not encourage  not plan"
      ]
     },
     "execution_count": 132,
     "metadata": {},
     "output_type": "execute_result"
    }
   ],
   "source": [
    "# Load the data\n",
    "college = pandas.read_csv('college.csv',engine='python') # Parser engine to use. The C is faster while the python is currently more feature-complete.\n",
    "college.head()"
   ]
  },
  {
   "cell_type": "markdown",
   "id": "576b0ba8",
   "metadata": {
    "ExecuteTime": {
     "end_time": "2023-02-24T02:43:28.806037Z",
     "start_time": "2023-02-24T02:43:28.801584Z"
    }
   },
   "source": [
    "#  Exploratory data analysis (based on original dataset)"
   ]
  },
  {
   "cell_type": "markdown",
   "id": "af95feb0",
   "metadata": {
    "ExecuteTime": {
     "end_time": "2023-02-24T02:48:21.537291Z",
     "start_time": "2023-02-24T02:48:21.526961Z"
    }
   },
   "source": [
    "## Data quality (No need in our case)\n",
    "Based on the content of last tutorial, we will perform the **[Data Cleaning](https://en.wikipedia.org/wiki/Data_cleansing)**, **[Data Validation](https://en.wikipedia.org/wiki/Data_validation)** and **[Data Transformation](https://en.wikipedia.org/wiki/Data_transformation_(computing))** to check the data quality of the dataset.\n",
    "\n",
    "### Data Cleaning\n",
    " \n",
    "Our dataset is free of any **`NA`** values and does not require any cleaning in this regard."
   ]
  },
  {
   "cell_type": "code",
   "execution_count": 133,
   "id": "19c989d4",
   "metadata": {
    "ExecuteTime": {
     "end_time": "2023-02-24T15:39:25.138224Z",
     "start_time": "2023-02-24T15:39:25.121699Z"
    }
   },
   "outputs": [
    {
     "name": "stdout",
     "output_type": "stream",
     "text": [
      "Empty DataFrame\n",
      "Columns: [StudentID, Gender, Parent_income, IQ, Encourage, Plan]\n",
      "Index: []\n"
     ]
    }
   ],
   "source": [
    "# There is no NA data in the dataframe\n",
    "print(college[college.isna().any(axis=1)])"
   ]
  },
  {
   "cell_type": "markdown",
   "id": "3b76cbaf",
   "metadata": {},
   "source": [
    "### Data Validation\n",
    "Additionally, we need to assess if there are any outliers in the observations. We mainly detect the outliers by the **data description table** below.\n",
    "\n",
    "**In dataset `college`**, all of the data appears to be within reasonable bounds and no inconsistencies are immediately noticeable."
   ]
  },
  {
   "cell_type": "code",
   "execution_count": 134,
   "id": "9672b2e3",
   "metadata": {
    "ExecuteTime": {
     "end_time": "2023-02-24T15:39:31.569215Z",
     "start_time": "2023-02-24T15:39:31.546471Z"
    },
    "scrolled": false
   },
   "outputs": [
    {
     "data": {
      "text/html": [
       "<div>\n",
       "<style scoped>\n",
       "    .dataframe tbody tr th:only-of-type {\n",
       "        vertical-align: middle;\n",
       "    }\n",
       "\n",
       "    .dataframe tbody tr th {\n",
       "        vertical-align: top;\n",
       "    }\n",
       "\n",
       "    .dataframe thead th {\n",
       "        text-align: right;\n",
       "    }\n",
       "</style>\n",
       "<table border=\"1\" class=\"dataframe\">\n",
       "  <thead>\n",
       "    <tr style=\"text-align: right;\">\n",
       "      <th></th>\n",
       "      <th>StudentID</th>\n",
       "      <th>Parent_income</th>\n",
       "      <th>IQ</th>\n",
       "    </tr>\n",
       "  </thead>\n",
       "  <tbody>\n",
       "    <tr>\n",
       "      <th>count</th>\n",
       "      <td>8000.00000</td>\n",
       "      <td>8000.000000</td>\n",
       "      <td>8000.000000</td>\n",
       "    </tr>\n",
       "    <tr>\n",
       "      <th>mean</th>\n",
       "      <td>4000.50000</td>\n",
       "      <td>40584.017500</td>\n",
       "      <td>99.577750</td>\n",
       "    </tr>\n",
       "    <tr>\n",
       "      <th>std</th>\n",
       "      <td>2309.54541</td>\n",
       "      <td>18031.506468</td>\n",
       "      <td>18.923655</td>\n",
       "    </tr>\n",
       "    <tr>\n",
       "      <th>min</th>\n",
       "      <td>1.00000</td>\n",
       "      <td>4500.000000</td>\n",
       "      <td>60.000000</td>\n",
       "    </tr>\n",
       "    <tr>\n",
       "      <th>25%</th>\n",
       "      <td>2000.75000</td>\n",
       "      <td>29400.000000</td>\n",
       "      <td>90.000000</td>\n",
       "    </tr>\n",
       "    <tr>\n",
       "      <th>50%</th>\n",
       "      <td>4000.50000</td>\n",
       "      <td>39330.000000</td>\n",
       "      <td>100.000000</td>\n",
       "    </tr>\n",
       "    <tr>\n",
       "      <th>75%</th>\n",
       "      <td>6000.25000</td>\n",
       "      <td>51592.500000</td>\n",
       "      <td>110.000000</td>\n",
       "    </tr>\n",
       "    <tr>\n",
       "      <th>max</th>\n",
       "      <td>8000.00000</td>\n",
       "      <td>82390.000000</td>\n",
       "      <td>140.000000</td>\n",
       "    </tr>\n",
       "  </tbody>\n",
       "</table>\n",
       "</div>"
      ],
      "text/plain": [
       "        StudentID  Parent_income           IQ\n",
       "count  8000.00000    8000.000000  8000.000000\n",
       "mean   4000.50000   40584.017500    99.577750\n",
       "std    2309.54541   18031.506468    18.923655\n",
       "min       1.00000    4500.000000    60.000000\n",
       "25%    2000.75000   29400.000000    90.000000\n",
       "50%    4000.50000   39330.000000   100.000000\n",
       "75%    6000.25000   51592.500000   110.000000\n",
       "max    8000.00000   82390.000000   140.000000"
      ]
     },
     "execution_count": 134,
     "metadata": {},
     "output_type": "execute_result"
    }
   ],
   "source": [
    "# Basic statistics of dataset college\n",
    "college.describe()"
   ]
  },
  {
   "cell_type": "markdown",
   "id": "710ecf17",
   "metadata": {},
   "source": [
    "As for **string variables**, as noted in the description of the data, they **take only legal values**. All in all, our data set is pretty clean."
   ]
  },
  {
   "cell_type": "code",
   "execution_count": 135,
   "id": "edf8285a",
   "metadata": {
    "ExecuteTime": {
     "end_time": "2023-02-24T15:39:32.318285Z",
     "start_time": "2023-02-24T15:39:32.301036Z"
    }
   },
   "outputs": [
    {
     "data": {
      "text/html": [
       "<div>\n",
       "<style scoped>\n",
       "    .dataframe tbody tr th:only-of-type {\n",
       "        vertical-align: middle;\n",
       "    }\n",
       "\n",
       "    .dataframe tbody tr th {\n",
       "        vertical-align: top;\n",
       "    }\n",
       "\n",
       "    .dataframe thead th {\n",
       "        text-align: right;\n",
       "    }\n",
       "</style>\n",
       "<table border=\"1\" class=\"dataframe\">\n",
       "  <thead>\n",
       "    <tr style=\"text-align: right;\">\n",
       "      <th></th>\n",
       "      <th>Encourage</th>\n",
       "      <th>Plan</th>\n",
       "    </tr>\n",
       "  </thead>\n",
       "  <tbody>\n",
       "    <tr>\n",
       "      <th>0</th>\n",
       "      <td>[encourage, not encourage]</td>\n",
       "      <td>[plan, not plan]</td>\n",
       "    </tr>\n",
       "  </tbody>\n",
       "</table>\n",
       "</div>"
      ],
      "text/plain": [
       "                    Encourage              Plan\n",
       "0  [encourage, not encourage]  [plan, not plan]"
      ]
     },
     "execution_count": 135,
     "metadata": {},
     "output_type": "execute_result"
    }
   ],
   "source": [
    "# Aggregate the data\n",
    "def rstr(df): return df.apply(lambda x: [x.unique()]) # define a function\n",
    "rstr(college[['Encourage', 'Plan']])"
   ]
  },
  {
   "cell_type": "markdown",
   "id": "8a286074",
   "metadata": {},
   "source": [
    "### Data Transformation\n",
    "\n",
    "**Random Forest** models can be affected by the **scale of the features**. When features have different scales, the model may give **more weight to features with larger scales**, which can negatively impact the accuracy of the model. In the given dataset of `Parent_income` and `IQ`, the scales of the features are significantly different. For instance, the range of `Parent_income` is much higher than that of `IQ`. To ensure a fair contribution of all features, we need to rescale the data:"
   ]
  },
  {
   "cell_type": "code",
   "execution_count": 136,
   "id": "a76b0075",
   "metadata": {
    "ExecuteTime": {
     "end_time": "2023-02-24T15:39:33.296409Z",
     "start_time": "2023-02-24T15:39:33.280416Z"
    }
   },
   "outputs": [],
   "source": [
    "from sklearn.preprocessing import StandardScaler\n",
    "\n",
    "# make a copy of original dataset\n",
    "college_scl = college.copy()\n",
    "# extract the feature columns\n",
    "feature_cols = [\"Parent_income\", \"IQ\"]\n",
    "# train the transformer and fit the data on-the-fly\n",
    "college_scl[feature_cols] = StandardScaler().fit_transform(college[feature_cols])"
   ]
  },
  {
   "cell_type": "code",
   "execution_count": 137,
   "id": "c8ba6ea0",
   "metadata": {
    "ExecuteTime": {
     "end_time": "2023-02-24T15:39:33.512023Z",
     "start_time": "2023-02-24T15:39:33.506835Z"
    },
    "scrolled": true
   },
   "outputs": [
    {
     "data": {
      "text/html": [
       "<div>\n",
       "<style scoped>\n",
       "    .dataframe tbody tr th:only-of-type {\n",
       "        vertical-align: middle;\n",
       "    }\n",
       "\n",
       "    .dataframe tbody tr th {\n",
       "        vertical-align: top;\n",
       "    }\n",
       "\n",
       "    .dataframe thead th {\n",
       "        text-align: right;\n",
       "    }\n",
       "</style>\n",
       "<table border=\"1\" class=\"dataframe\">\n",
       "  <thead>\n",
       "    <tr style=\"text-align: right;\">\n",
       "      <th></th>\n",
       "      <th>StudentID</th>\n",
       "      <th>Gender</th>\n",
       "      <th>Parent_income</th>\n",
       "      <th>IQ</th>\n",
       "      <th>Encourage</th>\n",
       "      <th>Plan</th>\n",
       "    </tr>\n",
       "  </thead>\n",
       "  <tbody>\n",
       "    <tr>\n",
       "      <th>0</th>\n",
       "      <td>4558</td>\n",
       "      <td>male</td>\n",
       "      <td>0.738530</td>\n",
       "      <td>0.973565</td>\n",
       "      <td>encourage</td>\n",
       "      <td>plan</td>\n",
       "    </tr>\n",
       "    <tr>\n",
       "      <th>1</th>\n",
       "      <td>4561</td>\n",
       "      <td>female</td>\n",
       "      <td>-0.869866</td>\n",
       "      <td>-0.664699</td>\n",
       "      <td>not encourage</td>\n",
       "      <td>not plan</td>\n",
       "    </tr>\n",
       "    <tr>\n",
       "      <th>2</th>\n",
       "      <td>4563</td>\n",
       "      <td>female</td>\n",
       "      <td>1.398528</td>\n",
       "      <td>-0.347616</td>\n",
       "      <td>not encourage</td>\n",
       "      <td>not plan</td>\n",
       "    </tr>\n",
       "    <tr>\n",
       "      <th>3</th>\n",
       "      <td>4565</td>\n",
       "      <td>male</td>\n",
       "      <td>-1.616384</td>\n",
       "      <td>0.920717</td>\n",
       "      <td>encourage</td>\n",
       "      <td>plan</td>\n",
       "    </tr>\n",
       "    <tr>\n",
       "      <th>4</th>\n",
       "      <td>4567</td>\n",
       "      <td>female</td>\n",
       "      <td>-1.324654</td>\n",
       "      <td>0.128009</td>\n",
       "      <td>not encourage</td>\n",
       "      <td>not plan</td>\n",
       "    </tr>\n",
       "  </tbody>\n",
       "</table>\n",
       "</div>"
      ],
      "text/plain": [
       "   StudentID  Gender  Parent_income        IQ      Encourage      Plan\n",
       "0       4558    male       0.738530  0.973565      encourage      plan\n",
       "1       4561  female      -0.869866 -0.664699  not encourage  not plan\n",
       "2       4563  female       1.398528 -0.347616  not encourage  not plan\n",
       "3       4565    male      -1.616384  0.920717      encourage      plan\n",
       "4       4567  female      -1.324654  0.128009  not encourage  not plan"
      ]
     },
     "execution_count": 137,
     "metadata": {},
     "output_type": "execute_result"
    }
   ],
   "source": [
    "college_scl.head()"
   ]
  },
  {
   "cell_type": "markdown",
   "id": "a89b2354",
   "metadata": {},
   "source": [
    "In order to perform the Random Forest model on the given dataset, we need to use the **one-hot encoding** we mentioned before for the categorical variables in the dataset. One-hot encoding is a technique to transform categorical variables into numerical data, which is needed for machine learning models to process the data.\n",
    "\n",
    "In this dataset, the `Gender`, `Encourage`, and `Plan` columns contain categorical variables. The `Gender` column has two categories: `male` and `female`. The `Encourage` and `Plan` columns also have two categories each: `encourage` and `not encourage`, and `plan` and `not plan`, respectively."
   ]
  },
  {
   "cell_type": "code",
   "execution_count": 138,
   "id": "0f36e325",
   "metadata": {
    "ExecuteTime": {
     "end_time": "2023-02-24T15:39:34.726422Z",
     "start_time": "2023-02-24T15:39:34.706568Z"
    }
   },
   "outputs": [],
   "source": [
    "# Build an one-hot encoder\n",
    "oneHotEncoder = OneHotEncoder()\n",
    "# Train the one-hot encoder to get the transformation of columns that need to be processed by one-hot encoder\n",
    "oneHotEncoder.fit(college_scl[['Gender', 'Encourage']])\n",
    "# Transform the data\n",
    "oneHotData = oneHotEncoder.transform(college_scl[['Gender', 'Encourage']])"
   ]
  },
  {
   "cell_type": "markdown",
   "id": "2a0b77a0",
   "metadata": {
    "ExecuteTime": {
     "end_time": "2023-02-24T03:50:17.904273Z",
     "start_time": "2023-02-24T03:50:17.897831Z"
    }
   },
   "source": [
    "After transforming the two columns into one-hot encoding, we need to **merge the one-hot columns with the `Parent_income` and `IQ` columns** by column."
   ]
  },
  {
   "cell_type": "code",
   "execution_count": 140,
   "id": "b44a7ed0",
   "metadata": {
    "ExecuteTime": {
     "end_time": "2023-02-24T15:40:37.745041Z",
     "start_time": "2023-02-24T15:40:37.735211Z"
    }
   },
   "outputs": [],
   "source": [
    "# Combine the data obtained from the one-hot code with the parental income and IQ\n",
    "x = hstack([\n",
    "    oneHotData, \n",
    "    college_scl.Parent_income.values.reshape(-1, 1), \n",
    "    college_scl.IQ.values.reshape(-1, 1)\n",
    "])\n",
    "# pandas.DataFrame(x.toarray()[:5])\n",
    "# The response variable\n",
    "y = college_scl[\"Plan\"]"
   ]
  },
  {
   "cell_type": "markdown",
   "id": "77003d70",
   "metadata": {},
   "source": [
    "## Marginal variable analysis"
   ]
  },
  {
   "cell_type": "markdown",
   "id": "c891c79c",
   "metadata": {},
   "source": [
    "### Gender\n",
    "First, the data set is **balanced between men and women**, with slightly fewer men (48.4%) and more women (51.6%). Secondly, in general, 67.6% of high school students do not want to go to college to study. The proportion of male high school students with the intention to study is more, accounting for 36.4% of the male high school students. There are 28.7% of female high school students want to go to college. \n",
    "<table><thead><tr><th>Gender</th><th>Total</th></tr></thead><tbody><tr><td>Male</td><td>51.6%</td></tr><tr><td>Female</td><td>48.4%</td></tr></tbody></table>"
   ]
  },
  {
   "cell_type": "code",
   "execution_count": 143,
   "id": "871a2209",
   "metadata": {
    "ExecuteTime": {
     "end_time": "2023-02-24T15:41:14.303029Z",
     "start_time": "2023-02-24T15:41:14.262731Z"
    }
   },
   "outputs": [
    {
     "data": {
      "text/html": [
       "<div>\n",
       "<style scoped>\n",
       "    .dataframe tbody tr th:only-of-type {\n",
       "        vertical-align: middle;\n",
       "    }\n",
       "\n",
       "    .dataframe tbody tr th {\n",
       "        vertical-align: top;\n",
       "    }\n",
       "\n",
       "    .dataframe thead th {\n",
       "        text-align: right;\n",
       "    }\n",
       "</style>\n",
       "<table border=\"1\" class=\"dataframe\">\n",
       "  <thead>\n",
       "    <tr style=\"text-align: right;\">\n",
       "      <th>Plan</th>\n",
       "      <th>not plan</th>\n",
       "      <th>plan</th>\n",
       "    </tr>\n",
       "    <tr>\n",
       "      <th>Gender</th>\n",
       "      <th></th>\n",
       "      <th></th>\n",
       "    </tr>\n",
       "  </thead>\n",
       "  <tbody>\n",
       "    <tr>\n",
       "      <th>female</th>\n",
       "      <td>71.3%</td>\n",
       "      <td>28.7%</td>\n",
       "    </tr>\n",
       "    <tr>\n",
       "      <th>male</th>\n",
       "      <td>63.6%</td>\n",
       "      <td>36.4%</td>\n",
       "    </tr>\n",
       "    <tr>\n",
       "      <th>Total</th>\n",
       "      <td>67.6%</td>\n",
       "      <td>32.4%</td>\n",
       "    </tr>\n",
       "  </tbody>\n",
       "</table>\n",
       "</div>"
      ],
      "text/plain": [
       "Plan   not plan   plan\n",
       "Gender                \n",
       "female    71.3%  28.7%\n",
       "male      63.6%  36.4%\n",
       "Total     67.6%  32.4%"
      ]
     },
     "execution_count": 143,
     "metadata": {},
     "output_type": "execute_result"
    }
   ],
   "source": [
    "# Gender\n",
    "crosstb = pandas.crosstab(index = college['Gender'],\n",
    "                      columns = college['Plan'],\n",
    "                      normalize='index', margins = True,\n",
    "                      margins_name= \"Total\") *100\n",
    "round(crosstb,1).astype(str).apply(lambda x:x + '%')"
   ]
  },
  {
   "cell_type": "markdown",
   "id": "856e5b2a",
   "metadata": {},
   "source": [
    "### Encourage\n",
    "Overall, 51.7% of parents encourage their children to go to college, while 48.3% do not. Among the high school students encouraged by their parents to go to college, 57.0% of them plan to go to college, which is not very differentiated. But notice that 93.8% of the kids whose parents don't encourage them to go to college have no plans to do so, which is a huge difference. This reminds us that **`Encourage` may be a good variable for predicting** the college attending plan.\n",
    "\n",
    "<table><thead><tr><th>Encourage</th><th>Total</th></tr></thead><tbody><tr><td>encourage</td><td>51.7%</td></tr><tr><td>not encourage<br></td><td>48.3%</td></tr></tbody></table>"
   ]
  },
  {
   "cell_type": "code",
   "execution_count": 142,
   "id": "8bfee3bb",
   "metadata": {
    "ExecuteTime": {
     "end_time": "2023-02-24T15:40:50.321976Z",
     "start_time": "2023-02-24T15:40:50.277532Z"
    }
   },
   "outputs": [
    {
     "data": {
      "text/html": [
       "<div>\n",
       "<style scoped>\n",
       "    .dataframe tbody tr th:only-of-type {\n",
       "        vertical-align: middle;\n",
       "    }\n",
       "\n",
       "    .dataframe tbody tr th {\n",
       "        vertical-align: top;\n",
       "    }\n",
       "\n",
       "    .dataframe thead th {\n",
       "        text-align: right;\n",
       "    }\n",
       "</style>\n",
       "<table border=\"1\" class=\"dataframe\">\n",
       "  <thead>\n",
       "    <tr style=\"text-align: right;\">\n",
       "      <th>Plan</th>\n",
       "      <th>not plan</th>\n",
       "      <th>plan</th>\n",
       "    </tr>\n",
       "    <tr>\n",
       "      <th>Encourage</th>\n",
       "      <th></th>\n",
       "      <th></th>\n",
       "    </tr>\n",
       "  </thead>\n",
       "  <tbody>\n",
       "    <tr>\n",
       "      <th>encourage</th>\n",
       "      <td>43.0%</td>\n",
       "      <td>57.0%</td>\n",
       "    </tr>\n",
       "    <tr>\n",
       "      <th>not encourage</th>\n",
       "      <td>93.8%</td>\n",
       "      <td>6.2%</td>\n",
       "    </tr>\n",
       "    <tr>\n",
       "      <th>Total</th>\n",
       "      <td>67.6%</td>\n",
       "      <td>32.4%</td>\n",
       "    </tr>\n",
       "  </tbody>\n",
       "</table>\n",
       "</div>"
      ],
      "text/plain": [
       "Plan          not plan   plan\n",
       "Encourage                    \n",
       "encourage        43.0%  57.0%\n",
       "not encourage    93.8%   6.2%\n",
       "Total            67.6%  32.4%"
      ]
     },
     "execution_count": 142,
     "metadata": {},
     "output_type": "execute_result"
    }
   ],
   "source": [
    "# Encourage plan\n",
    "crosstb = pandas.crosstab(index = college['Encourage'],\n",
    "                      columns = college['Plan'],\n",
    "                      normalize='index', margins = True,\n",
    "                      margins_name= \"Total\") *100\n",
    "round(crosstb,1).astype(str).apply(lambda x:x + '%')"
   ]
  },
  {
   "cell_type": "markdown",
   "id": "05f964fc",
   "metadata": {},
   "source": [
    "## Parent income & IQ: \n",
    "For `Parent income` and `IQ`, we used **boxplots** to compare the degree to which they rated whether high school students planned to go to college or not. If the two resulting boxplots differ markedly in position (e.g. in terms of the median) for students who plan to go to school and those who don't, the corresponding variable can be deemed relevant. As can be observed from the chart below, in terms of **parental income**, **students who plan to attend** college are significantly **higher** than those who plan not to attend college. Of course, you can see some outliers above the upper whisker of students who plan on not going to college, suggesting that there are a small number of students whose parents have higher incomes who also don't plan on going to college. In terms of **student IQ**, **students who plan to attend** college are **higher** than those who plan not to attend college, but there is some **overlap**."
   ]
  },
  {
   "cell_type": "code",
   "execution_count": 145,
   "id": "72da6ad3",
   "metadata": {
    "ExecuteTime": {
     "end_time": "2023-02-24T15:43:57.242517Z",
     "start_time": "2023-02-24T15:43:57.087903Z"
    }
   },
   "outputs": [
    {
     "name": "stderr",
     "output_type": "stream",
     "text": [
      "No artists with labels found to put in legend.  Note that artists whose label start with an underscore are ignored when legend() is called with no argument.\n"
     ]
    },
    {
     "data": {
      "image/png": "[encoded data removed]",
      "text/plain": [
       "<Figure size 1152x576 with 2 Axes>"
      ]
     },
     "metadata": {},
     "output_type": "display_data"
    }
   ],
   "source": [
    "import matplotlib.pyplot as plt\n",
    "import seaborn as sns\n",
    "# Creation of figure with 2 axis\n",
    "sns.set(style=\"ticks\")\n",
    "sns.set_style(\"darkgrid\")\n",
    "fig, ax = plt.subplots(1, 2, figsize=(16, 8))\n",
    "# Creation of 1st axis\n",
    "sns.boxplot(x=\"Plan\", y=\"Parent_income\", data=college, ax=ax[0])\n",
    "ax[0].legend(loc='upper right')\n",
    "ax[0].set_title(\"Boxplot of Parent_income for students with different college attending plan\", fontsize=14)\n",
    "# Creation of 2nd axis\n",
    "sns.boxplot(x=\"Plan\", y=\"IQ\", data=college, ax=ax[1])\n",
    "ax[1].set_title(\"Boxplot of IQ for students with different college attending plan\", fontsize=14)\n",
    "# Close the empty Figure 2 created by seaborn.\n",
    "plt.close(2)"
   ]
  },
  {
   "cell_type": "markdown",
   "id": "6e7fd24a",
   "metadata": {},
   "source": [
    "## Data preprocessing\n",
    "The type of the data in the dataset is double, eliminating the need for additional preprocessing. The only required step is to **split the data into training and testing sets**.\n",
    "\n",
    "### Split the training and testing set"
   ]
  },
  {
   "cell_type": "code",
   "execution_count": 153,
   "id": "2c3c2880",
   "metadata": {
    "ExecuteTime": {
     "end_time": "2023-02-24T15:46:42.285018Z",
     "start_time": "2023-02-24T15:46:42.273105Z"
    }
   },
   "outputs": [],
   "source": [
    "# Split the dataset into training set (70%) and testing set (30%), the random_state is used to control randomness\n",
    "from sklearn.model_selection import train_test_split # Import the training and testing dataset splitter\n",
    "x_train, x_test, y_train, y_test = train_test_split(x, y, test_size=0.3, random_state=1)"
   ]
  },
  {
   "cell_type": "markdown",
   "id": "ba3a2294",
   "metadata": {},
   "source": [
    "# Model building "
   ]
  },
  {
   "cell_type": "markdown",
   "id": "9ea28a14",
   "metadata": {},
   "source": [
    "**Random Forest** is a popular machine learning algorithm used for both classification and regression tasks. It is an **ensemble learning method** that combines multiple decision trees to make a final prediction.\n",
    "\n",
    "***Relationship with Decision Trees***\n",
    "\n",
    "Before we dive into Random Forest, it is important to understand the relationship between **Random Forest** and **Decision Trees**. A Decision Tree splits the dataset into smaller subsets by creating a tree-like structure of decisions and their possible consequences. Each decision tree node represents a question or test about one of the features, and each branch represents the outcome of that test. The final decision is made by following the path from the root to a leaf node.\n",
    "\n",
    "**Random Forest** works by **combining multiple Decision Trees** to make a final prediction. Each Decision Tree in the Random Forest is **trained on a random subset** of the training data and randomly selected **features**. By doing so, Random Forest can overcome the problem of overfitting that can occur when training a single Decision Tree on the entire dataset.\n",
    "\n",
    "***Working of Random Forest***\n",
    "\n",
    "Let's take a look at how Random Forest works step by step. Assume we have a dataset of n samples with m features, and we want to predict a binary outcome variable y. Here are the steps:\n",
    "\n",
    "1. **Feature sampling:** **Randomly select k features without replacement** from the total m features where k << m. In Random Forest, the value of k is often the square root of m.\n",
    "2. **Bootstrap aggregating (Bagging):** For each of the k features, create a Decision Tree using a **random subset of n samples**. Sampling is done **with replacement**, which means that a sample can be chosen more than once, leading to the creation of different Decision Trees.\n",
    "3. **Decision tree growing:** For each feature, **grow a Decision Tree** by recursively splitting the dataset into two subsets based on the optimal split criterion. The optimal split criterion is determined by maximizing the information gain or minimizing the impurity of the split. The Decision Tree **stops growing when the maximum depth is reached or no further improvement in the impurity measure can be achieved**.\n",
    "4. Repeat steps 1-3 to create a forest of k Decision Trees.\n",
    "\n",
    "To make a **prediction** on a new sample, pass it through all k Decision Trees, and count the number of times it is classified as a positive outcome. The final prediction is made by taking the **majority vote** of the k Decision Trees. For example, if the sample is classified as positive in 4 out of 5 Decision Trees, the final prediction will be positive.\n",
    "\n",
    "***Example***\n",
    "\n",
    "In the illustration below, the dataset comprises of 5 features and 5 observations. Each decision tree in the Random Forest is built using a subset that **randomly** selects 3 features **without replacement** and 5 observations **with replacement**. In subset 1, the features X1, X3, and X4 are selected, and observations 1, 2, and 5 are chosen, with observations 1 and 2 being **selected twice**. The decision trees are grown without pruning, and the final decision is aggregated by **majority voting**.\n",
    "\n",
    "<img src='https://media.springernature.com/full/springer-static/image/chp%3A10.1007%2F978-3-030-89010-0_15/MediaObjects/484261_1_En_15_Fig4_HTML.png?as=webp' width=800>"
   ]
  },
  {
   "cell_type": "markdown",
   "id": "937fa55a",
   "metadata": {},
   "source": [
    "In the analyses below, we use the `GridSearchCV` to find the optimal parameters. The range of the hyperparameters are illustrted."
   ]
  },
  {
   "cell_type": "code",
   "execution_count": 114,
   "id": "524683b7",
   "metadata": {
    "ExecuteTime": {
     "end_time": "2023-02-24T10:12:25.514143Z",
     "start_time": "2023-02-24T10:11:31.101654Z"
    }
   },
   "outputs": [
    {
     "name": "stdout",
     "output_type": "stream",
     "text": [
      "Fitting 10 folds for each of 360 candidates, totalling 3600 fits\n",
      "The optimal score is : 0.837321\n",
      "The optimal parameters are:\n",
      "criterion=gini\n",
      "max_depth=6\n",
      "max_leaf_nodes=13\n",
      "n_estimators=50\n"
     ]
    }
   ],
   "source": [
    "# Executed duration: 60 second\n",
    "# Import the RandomForestClassifier module\n",
    "from sklearn.ensemble import RandomForestClassifier\n",
    "\n",
    "# Initialize a basic random forest model\n",
    "rfClassifier = RandomForestClassifier(random_state=1)\n",
    "\n",
    "# Define a dictionary of hyperparameters to tune\n",
    "paramGrid = dict(\n",
    "    max_depth= [5, 6, 7, 8, 9, 10],\n",
    "    criterion=['gini', 'entropy'],    \n",
    "    max_leaf_nodes=[10, 11, 12, 13, 14, 15],\n",
    "    n_estimators=np.arange(10,60,10)\n",
    ")\n",
    "\n",
    "# Perform hyperparameter tuning using GridSearchCV with cross-validation\n",
    "gridSearchCV = GridSearchCV(\n",
    "    rfClassifier, paramGrid, \n",
    "    cv=10, verbose=1, n_jobs=-1,\n",
    "    return_train_score=True\n",
    ")\n",
    "\n",
    "# Fit the model with the data and hyperparameters to find the best combination of hyperparameters\n",
    "grid = gridSearchCV.fit(x_train, y_train)\n",
    "\n",
    "# Print the best score and parameters found\n",
    "print('The optimal score is : %f' % grid.best_score_)\n",
    "print('The optimal parameters are:')\n",
    "for key in grid.best_params_.keys():\n",
    "    print('%s=%s'%(key, grid.best_params_[key]))"
   ]
  },
  {
   "cell_type": "markdown",
   "id": "73bdd71b",
   "metadata": {},
   "source": [
    "Using `GridSearchCV`, we find the best model in our search range. The optimal **Accuarcy is 0.8373** and the optimal parameters are (The optimal outcome of cross-validation can potentially differ across multiple runs due to the inherent randomness in the process.):\n",
    " - criterion=gini\n",
    " - max_depth=6\n",
    " - max_leaf_nodes=13\n",
    " - n_estimators=50\n",
    " \n",
    "Then, we can train the Random Forest model with optimal parameters:"
   ]
  },
  {
   "cell_type": "code",
   "execution_count": 154,
   "id": "bcc910ed",
   "metadata": {
    "ExecuteTime": {
     "end_time": "2023-02-24T15:46:46.970672Z",
     "start_time": "2023-02-24T15:46:46.777993Z"
    },
    "scrolled": true
   },
   "outputs": [
    {
     "data": {
      "text/plain": [
       "RandomForestClassifier(max_depth=6, max_leaf_nodes=13, n_estimators=50)"
      ]
     },
     "execution_count": 154,
     "metadata": {},
     "output_type": "execute_result"
    }
   ],
   "source": [
    "# Bulid the Random Forest with the optimal parameters\n",
    "random_forest_opt = RandomForestClassifier(\n",
    "    criterion='gini',\n",
    "    max_depth=6, \n",
    "    max_leaf_nodes=13,\n",
    "    n_estimators=50\n",
    ")\n",
    "random_forest_opt.fit(x, y)"
   ]
  },
  {
   "cell_type": "markdown",
   "id": "ce7d25ac",
   "metadata": {},
   "source": [
    "# Model comparison\n",
    "\n",
    "In this section, we will built the optimal Decision tree model we acquired in the ***Case study 1: College Attending Plan Modeled by Decision Tree*** and compare the optimal Decision Tree model with the Random Forest model in the **testing set**."
   ]
  },
  {
   "cell_type": "code",
   "execution_count": 155,
   "id": "afe259aa",
   "metadata": {
    "ExecuteTime": {
     "end_time": "2023-02-24T15:46:48.407937Z",
     "start_time": "2023-02-24T15:46:48.384467Z"
    }
   },
   "outputs": [
    {
     "data": {
      "text/plain": [
       "DecisionTreeClassifier(max_depth=4, max_leaf_nodes=7)"
      ]
     },
     "execution_count": 155,
     "metadata": {},
     "output_type": "execute_result"
    }
   ],
   "source": [
    "# Bulid the Decision Tree with the optimal parameters\n",
    "decision_tree_opt = DecisionTreeClassifier(\n",
    "    max_depth=4, \n",
    "    max_leaf_nodes=7\n",
    ")\n",
    "decision_tree_opt.fit(x_train, y_train)"
   ]
  },
  {
   "cell_type": "markdown",
   "id": "436f13a4",
   "metadata": {},
   "source": [
    "## Accuracy"
   ]
  },
  {
   "cell_type": "code",
   "execution_count": 156,
   "id": "28bcce37",
   "metadata": {
    "ExecuteTime": {
     "end_time": "2023-02-24T15:46:51.093467Z",
     "start_time": "2023-02-24T15:46:51.062507Z"
    }
   },
   "outputs": [
    {
     "data": {
      "text/plain": [
       "0.85"
      ]
     },
     "execution_count": 156,
     "metadata": {},
     "output_type": "execute_result"
    }
   ],
   "source": [
    "# The Accuracy of Random Forest\n",
    "random_forest_opt.score(x_test, y_test)"
   ]
  },
  {
   "cell_type": "code",
   "execution_count": 158,
   "id": "fc075b48",
   "metadata": {
    "ExecuteTime": {
     "end_time": "2023-02-24T15:47:00.329805Z",
     "start_time": "2023-02-24T15:47:00.315245Z"
    },
    "scrolled": true
   },
   "outputs": [
    {
     "data": {
      "text/plain": [
       "0.84125"
      ]
     },
     "execution_count": 158,
     "metadata": {},
     "output_type": "execute_result"
    }
   ],
   "source": [
    "# The Accuracy of Decision Tree\n",
    "decision_tree_opt.score(x_test, y_test)"
   ]
  },
  {
   "cell_type": "markdown",
   "id": "7d8647f0",
   "metadata": {},
   "source": [
    "The Accuracy for the Random Forest and the Decision Tree on the testing set are **0.8495** and **0.8413** respectively. **The Accuracy of the Random Forest is a little higher**."
   ]
  },
  {
   "cell_type": "markdown",
   "id": "7481c9db",
   "metadata": {},
   "source": [
    "## Confusion matrices\n",
    "We then compare models in terms of the **confusion matrices** obtained on the testing data set. *For detailed introduction of Confusion matrices, see Case study 3.*"
   ]
  },
  {
   "cell_type": "code",
   "execution_count": 159,
   "id": "f62c2bc8",
   "metadata": {
    "ExecuteTime": {
     "end_time": "2023-02-24T15:48:02.941875Z",
     "start_time": "2023-02-24T15:48:02.933614Z"
    }
   },
   "outputs": [],
   "source": [
    "# Define a function to calculate the confusion matrix\n",
    "from sklearn.metrics import confusion_matrix # import confusion matrix module\n",
    "def calculate_confusion_matrix(y_true, y_pred, labels):\n",
    "    confu_mat = pandas.DataFrame(confusion_matrix(y_true, y_pred, normalize=None, labels=labels))\n",
    "    return round(confu_mat, 2)  # formatting the output"
   ]
  },
  {
   "cell_type": "code",
   "execution_count": 160,
   "id": "76722245",
   "metadata": {
    "ExecuteTime": {
     "end_time": "2023-02-24T15:48:03.460158Z",
     "start_time": "2023-02-24T15:48:03.424336Z"
    }
   },
   "outputs": [
    {
     "data": {
      "text/html": [
       "<div>\n",
       "<style scoped>\n",
       "    .dataframe tbody tr th:only-of-type {\n",
       "        vertical-align: middle;\n",
       "    }\n",
       "\n",
       "    .dataframe tbody tr th {\n",
       "        vertical-align: top;\n",
       "    }\n",
       "\n",
       "    .dataframe thead th {\n",
       "        text-align: right;\n",
       "    }\n",
       "</style>\n",
       "<table border=\"1\" class=\"dataframe\">\n",
       "  <thead>\n",
       "    <tr style=\"text-align: right;\">\n",
       "      <th></th>\n",
       "      <th>0</th>\n",
       "      <th>1</th>\n",
       "    </tr>\n",
       "  </thead>\n",
       "  <tbody>\n",
       "    <tr>\n",
       "      <th>0</th>\n",
       "      <td>1475</td>\n",
       "      <td>155</td>\n",
       "    </tr>\n",
       "    <tr>\n",
       "      <th>1</th>\n",
       "      <td>205</td>\n",
       "      <td>565</td>\n",
       "    </tr>\n",
       "  </tbody>\n",
       "</table>\n",
       "</div>"
      ],
      "text/plain": [
       "      0    1\n",
       "0  1475  155\n",
       "1   205  565"
      ]
     },
     "execution_count": 160,
     "metadata": {},
     "output_type": "execute_result"
    }
   ],
   "source": [
    "# Confusion matrix of Random Forest\n",
    "calculate_confusion_matrix(y_test, random_forest_opt.predict(x_test), labels=['not plan', 'plan'])"
   ]
  },
  {
   "cell_type": "code",
   "execution_count": 161,
   "id": "bd94c538",
   "metadata": {
    "ExecuteTime": {
     "end_time": "2023-02-24T15:48:03.882539Z",
     "start_time": "2023-02-24T15:48:03.857510Z"
    }
   },
   "outputs": [
    {
     "data": {
      "text/html": [
       "<div>\n",
       "<style scoped>\n",
       "    .dataframe tbody tr th:only-of-type {\n",
       "        vertical-align: middle;\n",
       "    }\n",
       "\n",
       "    .dataframe tbody tr th {\n",
       "        vertical-align: top;\n",
       "    }\n",
       "\n",
       "    .dataframe thead th {\n",
       "        text-align: right;\n",
       "    }\n",
       "</style>\n",
       "<table border=\"1\" class=\"dataframe\">\n",
       "  <thead>\n",
       "    <tr style=\"text-align: right;\">\n",
       "      <th></th>\n",
       "      <th>0</th>\n",
       "      <th>1</th>\n",
       "    </tr>\n",
       "  </thead>\n",
       "  <tbody>\n",
       "    <tr>\n",
       "      <th>0</th>\n",
       "      <td>1495</td>\n",
       "      <td>135</td>\n",
       "    </tr>\n",
       "    <tr>\n",
       "      <th>1</th>\n",
       "      <td>246</td>\n",
       "      <td>524</td>\n",
       "    </tr>\n",
       "  </tbody>\n",
       "</table>\n",
       "</div>"
      ],
      "text/plain": [
       "      0    1\n",
       "0  1495  135\n",
       "1   246  524"
      ]
     },
     "execution_count": 161,
     "metadata": {},
     "output_type": "execute_result"
    }
   ],
   "source": [
    "# Confusion matrix of Decision Tree\n",
    "calculate_confusion_matrix(y_test, decision_tree_opt.predict(x_test), labels=['not plan', 'plan'])"
   ]
  },
  {
   "cell_type": "markdown",
   "id": "32fb2365",
   "metadata": {},
   "source": [
    "In the presented confusion matrix, the label 0 and 1 correspond to the 'not plan' and 'plan' classes, respectively.  Relative to the Decision Tree method, the Random Forest approach demonstrates superiority by averting $246-204=42$ additional positive samples from being erroneously classified as negative, albeit at the expense of incorrectly assigning $155-135=20$ more negative samples to the positive class.  Given that the correct identification of both positive and negative samples is equally essential to our analysis, **the Random Forest model is deemed to be superior to the Decision Tree method**."
   ]
  },
  {
   "cell_type": "markdown",
   "id": "273e8b96",
   "metadata": {
    "ExecuteTime": {
     "end_time": "2023-02-24T06:55:41.885839Z",
     "start_time": "2023-02-24T06:55:41.878294Z"
    }
   },
   "source": [
    "## ROC curve and AUC"
   ]
  },
  {
   "cell_type": "markdown",
   "id": "cf959499",
   "metadata": {},
   "source": [
    "Last but not least, we assess the performance of the Decision Tree model and the Random Forest model. *For detail introduction of ROC curve and AUC, see Case study 3*"
   ]
  },
  {
   "cell_type": "code",
   "execution_count": 162,
   "id": "1738d86f",
   "metadata": {
    "ExecuteTime": {
     "end_time": "2023-02-24T15:48:24.737582Z",
     "start_time": "2023-02-24T15:48:24.626963Z"
    }
   },
   "outputs": [
    {
     "data": {
      "image/png": "[encoded data removed]",
      "text/plain": [
       "<Figure size 432x288 with 1 Axes>"
      ]
     },
     "metadata": {},
     "output_type": "display_data"
    }
   ],
   "source": [
    "import matplotlib.pyplot as plt\n",
    "from sklearn.svm import SVC\n",
    "from sklearn.metrics import RocCurveDisplay\n",
    "\n",
    "# plot the ROC curve of the Random Forest\n",
    "roc_random_forest = RocCurveDisplay.from_estimator(random_forest_opt, x_test, y_test)\n",
    "ax = plt.gca()\n",
    "# plot the ROC curve of the Decision Tree\n",
    "roc_decision_tree = RocCurveDisplay.from_estimator(decision_tree_opt, x_test, y_test, ax=ax, alpha=0.8)\n",
    "plt.show()"
   ]
  },
  {
   "cell_type": "markdown",
   "id": "aa9ab86d",
   "metadata": {},
   "source": [
    "Upon analyzing the ROC plot generated, it is evident that the Random Forest model consistently outperforms the Decision Tree model. Specifically, the ROC curve of the Random Forest is almost constantly higher than that of the Decision Tree. And the area under the ROC curve (AUC) of the Random Forest model, calculated to be 0.91, is significantly greater than that of the Decision Tree model. This observation implies that the **Random Forest model** has **superior classification performance** compared to the Decision Tree model."
   ]
  },
  {
   "cell_type": "markdown",
   "id": "1e74d777",
   "metadata": {
    "ExecuteTime": {
     "end_time": "2023-02-24T09:04:27.743647Z",
     "start_time": "2023-02-24T09:04:27.737687Z"
    }
   },
   "source": [
    "# Summary report"
   ]
  },
  {
   "cell_type": "markdown",
   "id": "19be933d",
   "metadata": {},
   "source": [
    "## Objectives\n",
    "The case study deals with the college attending plan which was previously discussed in **Case Study 1**, where we applied the **Decision Tree** model. In this study, we will utilize the **Random Forest** model, an ensembled version of the Decision Tree model, to make predictions."
   ]
  },
  {
   "cell_type": "markdown",
   "id": "9b2e2d7d",
   "metadata": {},
   "source": [
    "\n",
    "## Organisation of the data\n",
    "The data set contains a total of 8000 samples. Students use StudentID as a unique identifier. The explanatory variables include the gender of the student, the IQ of the student, the income of the parents, and whether the parents encouraged their children to attend college.\n",
    "\n",
    "## Exploratory data analysis：\n",
    "In the course of the exploratory data analysis, we find that `Encourage` has a strong discriminating effect on whether high school students attend college or not. In addition, we also find through the boxplot that `Parent_income` also have a good discrimination effect. After that, we used one-hot encoder to preprocess the data, so that the dataset could be processed by the decision tree model.\n",
    "\n",
    "##  Model specification\n",
    "The analysis objective suggested a predictive classification model that allocates high school students to categories with and without plan to go to college. Therefore, we consider **Random Forest**.\n",
    "\n",
    "## Model comparison\n",
    "Given that the Random Forest model is an **ensemble** method of the Decision Tree, we aim to build an optimal Decision Tree model based on the findings of Case Study 1: College Attending Plan Modeled by Decision Tree, and compare its performance with that of the Random Forest model on the testing set. By evaluating the **Accuracy** metric, we observe a slightly higher accuracy for the Random Forest model. Furthermore, upon examining the **Confusion Matrices**, we find that the Random Forest model outperforms the Decision Tree method in reducing the type 2 error rate, albeit at the cost of a slight increase in the type 1 error rate. We also observe that the **ROC curve** of the Random Forest model consistently outperforms that of the Decision Tree model, with a correspondingly higher **AUC score**. Overall, we conclude that the **Random Forest model exhibits superior classification performance compared to the Decision Tree model**, which further underscores the utility of ensemble methods in machine learning."
   ]
  }
 ],
 "metadata": {
  "kernelspec": {
   "display_name": "Python 3 (ipykernel)",
   "language": "python",
   "name": "python3"
  },
  "language_info": {
   "codemirror_mode": {
    "name": "ipython",
    "version": 3
   },
   "file_extension": ".py",
   "mimetype": "text/x-python",
   "name": "python",
   "nbconvert_exporter": "python",
   "pygments_lexer": "ipython3",
   "version": "3.9.12"
  },
  "latex_envs": {
   "LaTeX_envs_menu_present": true,
   "autoclose": true,
   "autocomplete": true,
   "bibliofile": "biblio.bib",
   "cite_by": "apalike",
   "current_citInitial": 1,
   "eqLabelWithNumbers": true,
   "eqNumInitial": 1,
   "hotkeys": {
    "equation": "Ctrl-E",
    "itemize": "Ctrl-I"
   },
   "labels_anchors": false,
   "latex_user_defs": false,
   "report_style_numbering": false,
   "user_envs_cfg": false
  },
  "toc": {
   "base_numbering": 1,
   "nav_menu": {},
   "number_sections": true,
   "sideBar": true,
   "skip_h1_title": false,
   "title_cell": "Table of Contents",
   "title_sidebar": "Contents",
   "toc_cell": false,
   "toc_position": {
    "height": "calc(100% - 180px)",
    "left": "10px",
    "top": "150px",
    "width": "165px"
   },
   "toc_section_display": true,
   "toc_window_display": false
  },
  "varInspector": {
   "cols": {
    "lenName": 16,
    "lenType": 16,
    "lenVar": "64"
   },
   "kernels_config": {
    "python": {
     "delete_cmd_postfix": "",
     "delete_cmd_prefix": "del ",
     "library": "var_list.py",
     "varRefreshCmd": "print(var_dic_list())"
    },
    "r": {
     "delete_cmd_postfix": ") ",
     "delete_cmd_prefix": "rm(",
     "library": "var_list.r",
     "varRefreshCmd": "cat(var_dic_list()) "
    }
   },
   "types_to_exclude": [
    "module",
    "function",
    "builtin_function_or_method",
    "instance",
    "_Feature"
   ],
   "window_display": false
  }
 },
 "nbformat": 4,
 "nbformat_minor": 5
}
