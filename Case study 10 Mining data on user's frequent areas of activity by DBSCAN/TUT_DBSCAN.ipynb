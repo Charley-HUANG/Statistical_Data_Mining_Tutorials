{
 "cells": [
  {
   "attachments": {},
   "cell_type": "markdown",
   "id": "c5ef7782",
   "metadata": {},
   "source": [
    "***\n",
    "**Tutorial 2 for Chapter 3**\n",
    "\n",
    "Case study 10: Mining data on user's frequent areas of activity\n",
    "***\n",
    "<font color = 'darkred'>*Reference:*\n",
    "<font color = 'darkred'>*数据挖掘原理与应用*\n",
    "\n",
    "<!-- Acknowledgement:  \n",
    "**i2DM (Tan, Steinbach, Kumar (2018) Introduction to Data Mining , 2nd Ed, Pearson )** Pearson Press   -->\n",
    "For the tutorial course of AMA546 Statistical Data Mining   \n",
    "Lecturer: Mr. Qiuyi Huang\n",
    "PolyU, HKSAR"
   ]
  },
  {
   "cell_type": "markdown",
   "id": "aefb1133",
   "metadata": {
    "ExecuteTime": {
     "end_time": "2023-02-24T02:47:58.766490Z",
     "start_time": "2023-02-24T02:47:58.760015Z"
    }
   },
   "source": [
    "***Contents*** \n",
    "1. Objectives of the analysis\n",
    "2. Description of the data\n",
    "3. Exploratory data analysis (based on original dataset)\n",
    "4. Data preprocessing\n",
    "5. Hierachical clustering\n",
    "6. Summary report\n",
    "  - 6.1 Objectives\n",
    "  - 6.2 Organisation of the data\n",
    "  - 6.3 Exploratory data analysis:\n",
    "  - 6.4 Model specification"
   ]
  },
  {
   "cell_type": "markdown",
   "id": "6760f0e3",
   "metadata": {},
   "source": [
    "# Objectives of the analysis"
   ]
  },
  {
   "cell_type": "markdown",
   "id": "ec5996c0",
   "metadata": {},
   "source": [
    "'DBSCAN.csv' is a 288$\\times$3 table, which consists of the geolocation data (x,y) of a user recorded every five minutes in a day. Every sample represents a geolocation point at a\n",
    "specific time. </br>\n",
    "\n",
    "Our **object** is to utilize the geolocations provided below to identify the areas by DBSCAN where the user is most active and summarize our findings accordingly."
   ]
  },
  {
   "cell_type": "markdown",
   "id": "db0f4653",
   "metadata": {},
   "source": [
    "# Description of the data "
   ]
  },
  {
   "cell_type": "code",
   "execution_count": 1,
   "id": "9abfbd65",
   "metadata": {},
   "outputs": [],
   "source": [
    "import pandas as pd\n",
    "import matplotlib.pyplot as plt# Description of the data \n",
    "from sklearn.cluster import DBSCAN"
   ]
  },
  {
   "cell_type": "code",
   "execution_count": 3,
   "id": "80b75153",
   "metadata": {},
   "outputs": [],
   "source": [
    "# Read the dataset\n",
    "data = pd.read_csv('/Users/qiuyi/Desktop/Github_Repository/Statistical_Data_Mining_Tutorials/Case study 10 Mining data on user\\'s frequent areas of activity by DBSCAN/DBSCAN.csv',\n",
    "                  encoding='utf8', engine='python')"
   ]
  },
  {
   "cell_type": "markdown",
   "id": "c6b110a7",
   "metadata": {},
   "source": [
    "**Notes**: In this tutorial, we choose the *absolute path* to import csv file. Absolute path is a hierarchical path that locates a file or folder in a file system starting from the root such as '/root/.../xxx.csv', it is accurate. </br>\n",
    "\n",
    "We also can choose *relative path*. Relative path describes the location of a file relative to the current (working) directory\n",
    "- './' means that the current directory and the file directory are in the same directory.\n",
    "- '../' means go up one level, which means the target file is at a higher directory than the current file.\n",
    "- '../../' means go up two level, just equal to implement '../' twice.\n"
   ]
  },
  {
   "cell_type": "code",
   "execution_count": 7,
   "id": "fa8688db",
   "metadata": {},
   "outputs": [
    {
     "data": {
      "text/html": [
       "<div>\n",
       "<style scoped>\n",
       "    .dataframe tbody tr th:only-of-type {\n",
       "        vertical-align: middle;\n",
       "    }\n",
       "\n",
       "    .dataframe tbody tr th {\n",
       "        vertical-align: top;\n",
       "    }\n",
       "\n",
       "    .dataframe thead th {\n",
       "        text-align: right;\n",
       "    }\n",
       "</style>\n",
       "<table border=\"1\" class=\"dataframe\">\n",
       "  <thead>\n",
       "    <tr style=\"text-align: right;\">\n",
       "      <th></th>\n",
       "      <th>time</th>\n",
       "      <th>x</th>\n",
       "      <th>y</th>\n",
       "    </tr>\n",
       "  </thead>\n",
       "  <tbody>\n",
       "    <tr>\n",
       "      <th>0</th>\n",
       "      <td>00:00</td>\n",
       "      <td>1.010065</td>\n",
       "      <td>1.015373</td>\n",
       "    </tr>\n",
       "    <tr>\n",
       "      <th>1</th>\n",
       "      <td>00:05</td>\n",
       "      <td>1.007142</td>\n",
       "      <td>1.005767</td>\n",
       "    </tr>\n",
       "    <tr>\n",
       "      <th>2</th>\n",
       "      <td>00:10</td>\n",
       "      <td>1.010765</td>\n",
       "      <td>1.005684</td>\n",
       "    </tr>\n",
       "    <tr>\n",
       "      <th>3</th>\n",
       "      <td>00:15</td>\n",
       "      <td>1.008393</td>\n",
       "      <td>1.008145</td>\n",
       "    </tr>\n",
       "    <tr>\n",
       "      <th>4</th>\n",
       "      <td>00:20</td>\n",
       "      <td>1.004085</td>\n",
       "      <td>1.015046</td>\n",
       "    </tr>\n",
       "  </tbody>\n",
       "</table>\n",
       "</div>"
      ],
      "text/plain": [
       "    time         x         y\n",
       "0  00:00  1.010065  1.015373\n",
       "1  00:05  1.007142  1.005767\n",
       "2  00:10  1.010765  1.005684\n",
       "3  00:15  1.008393  1.008145\n",
       "4  00:20  1.004085  1.015046"
      ]
     },
     "execution_count": 7,
     "metadata": {},
     "output_type": "execute_result"
    }
   ],
   "source": [
    "data.head()"
   ]
  },
  {
   "cell_type": "markdown",
   "id": "e390b4c3",
   "metadata": {},
   "source": [
    "Let's see the dimension of this dataset."
   ]
  },
  {
   "cell_type": "code",
   "execution_count": 8,
   "id": "7b56135d",
   "metadata": {},
   "outputs": [
    {
     "data": {
      "text/plain": [
       "(288, 3)"
      ]
     },
     "execution_count": 8,
     "metadata": {},
     "output_type": "execute_result"
    }
   ],
   "source": [
    "data.shape"
   ]
  },
  {
   "cell_type": "markdown",
   "id": "c9ba28ef",
   "metadata": {},
   "source": [
    "<!-- Rename the title '时间' to 'time'. -->"
   ]
  },
  {
   "cell_type": "code",
   "execution_count": 9,
   "id": "64be9ffa",
   "metadata": {
    "hide_input": false
   },
   "outputs": [],
   "source": [
    "# data.rename(columns={'时间': 'time'},inplace=True)\n",
    "# data.head() "
   ]
  },
  {
   "cell_type": "markdown",
   "id": "5309a4dc",
   "metadata": {},
   "source": [
    "See types of attributes."
   ]
  },
  {
   "cell_type": "code",
   "execution_count": 10,
   "id": "c3562840",
   "metadata": {
    "scrolled": true
   },
   "outputs": [
    {
     "data": {
      "text/plain": [
       "time     object\n",
       "x       float64\n",
       "y       float64\n",
       "dtype: object"
      ]
     },
     "execution_count": 10,
     "metadata": {},
     "output_type": "execute_result"
    }
   ],
   "source": [
    "data.dtypes"
   ]
  },
  {
   "cell_type": "markdown",
   "id": "576b0ba8",
   "metadata": {
    "ExecuteTime": {
     "end_time": "2023-02-24T02:43:28.806037Z",
     "start_time": "2023-02-24T02:43:28.801584Z"
    }
   },
   "source": [
    "#  Exploratory data analysis (based on original dataset)"
   ]
  },
  {
   "cell_type": "code",
   "execution_count": 11,
   "id": "4ce303a9",
   "metadata": {},
   "outputs": [
    {
     "data": {
      "text/html": [
       "<div>\n",
       "<style scoped>\n",
       "    .dataframe tbody tr th:only-of-type {\n",
       "        vertical-align: middle;\n",
       "    }\n",
       "\n",
       "    .dataframe tbody tr th {\n",
       "        vertical-align: top;\n",
       "    }\n",
       "\n",
       "    .dataframe thead th {\n",
       "        text-align: right;\n",
       "    }\n",
       "</style>\n",
       "<table border=\"1\" class=\"dataframe\">\n",
       "  <thead>\n",
       "    <tr style=\"text-align: right;\">\n",
       "      <th></th>\n",
       "      <th>x</th>\n",
       "      <th>y</th>\n",
       "    </tr>\n",
       "  </thead>\n",
       "  <tbody>\n",
       "    <tr>\n",
       "      <th>count</th>\n",
       "      <td>288.000000</td>\n",
       "      <td>288.000000</td>\n",
       "    </tr>\n",
       "    <tr>\n",
       "      <th>mean</th>\n",
       "      <td>8.923721</td>\n",
       "      <td>3.731517</td>\n",
       "    </tr>\n",
       "    <tr>\n",
       "      <th>std</th>\n",
       "      <td>8.142161</td>\n",
       "      <td>2.793233</td>\n",
       "    </tr>\n",
       "    <tr>\n",
       "      <th>min</th>\n",
       "      <td>1.000965</td>\n",
       "      <td>1.001381</td>\n",
       "    </tr>\n",
       "    <tr>\n",
       "      <th>25%</th>\n",
       "      <td>1.015438</td>\n",
       "      <td>1.013569</td>\n",
       "    </tr>\n",
       "    <tr>\n",
       "      <th>50%</th>\n",
       "      <td>11.003421</td>\n",
       "      <td>1.776322</td>\n",
       "    </tr>\n",
       "    <tr>\n",
       "      <th>75%</th>\n",
       "      <td>11.601037</td>\n",
       "      <td>7.005497</td>\n",
       "    </tr>\n",
       "    <tr>\n",
       "      <th>max</th>\n",
       "      <td>27.965653</td>\n",
       "      <td>7.434636</td>\n",
       "    </tr>\n",
       "  </tbody>\n",
       "</table>\n",
       "</div>"
      ],
      "text/plain": [
       "                x           y\n",
       "count  288.000000  288.000000\n",
       "mean     8.923721    3.731517\n",
       "std      8.142161    2.793233\n",
       "min      1.000965    1.001381\n",
       "25%      1.015438    1.013569\n",
       "50%     11.003421    1.776322\n",
       "75%     11.601037    7.005497\n",
       "max     27.965653    7.434636"
      ]
     },
     "execution_count": 11,
     "metadata": {},
     "output_type": "execute_result"
    }
   ],
   "source": [
    "data.describe()"
   ]
  },
  {
   "cell_type": "code",
   "execution_count": 12,
   "id": "e1e909fc",
   "metadata": {
    "scrolled": true
   },
   "outputs": [
    {
     "data": {
      "text/plain": [
       "<matplotlib.collections.PathCollection at 0x7fad79a83550>"
      ]
     },
     "execution_count": 12,
     "metadata": {},
     "output_type": "execute_result"
    },
    {
     "data": {
      "image/png": "[encoded data removed]",
      "text/plain": [
       "<Figure size 640x480 with 1 Axes>"
      ]
     },
     "metadata": {},
     "output_type": "display_data"
    }
   ],
   "source": [
    "plt.figure() # Create a blank canvas\n",
    "plt.scatter(\n",
    "    data['x'],\n",
    "    data['y'])"
   ]
  },
  {
   "cell_type": "markdown",
   "id": "a8d50883",
   "metadata": {},
   "source": [
    "<!-- The scatter plot shows the areas the person has been to, and the bigger clusters, the more frequent areas the person has been to. So we found that there is mainly 4 areas this specific user. -->\n",
    "By analyzing the scatter plot, we can identify the geographic locations that the user has visited, with larger clusters indicating areas that the user has frequented more often. Based on this analysis, we have found that the user has primarily visited four distinct areas, which could provide valuable insights into their travel patterns and preferences."
   ]
  },
  {
   "cell_type": "markdown",
   "id": "f408d476",
   "metadata": {},
   "source": [
    "## DBSCAN algorithm"
   ]
  },
  {
   "cell_type": "markdown",
   "id": "e26c0670",
   "metadata": {},
   "source": [
    "Recall this figure:"
   ]
  },
  {
   "cell_type": "markdown",
   "id": "4c5902d4",
   "metadata": {},
   "source": [
    "![/Users/ranjiang/Library/CloudStorage/OneDrive-TheHongKongPolytechnicUniversity/data mining/TUT_clustering/DBSCAN](fig_DBSCAN.png \"DBSCAN\" ) \n",
    "<!-- 此路径表示图片和MD文件，处于同一目录 -->\n",
    "<!-- <img src = \"/Users/ranjiang/Library/CloudStorage/OneDrive-TheHongKongPolytechnicUniversity/data mining/TUT_clustering/DBSCAN/fig_DBSCAN.png\" style = \"width: 200px\"/> -->"
   ]
  },
  {
   "cell_type": "markdown",
   "id": "b8099dfc",
   "metadata": {},
   "source": [
    "- **MinPts**: a certain threshold that identifies different kinds of points\n",
    "- **Core points**: These points are in the interior of a density-based cluster. A point is a core point if there are at least MinPts within a distance of Eps, where MinPts and Eps are userspecified parameters.\n",
    "- **Border points**: A border point is not a core point, but falls within the neighbourhood of a core point.\n",
    "- **Noise points**: A noise point is any point that is neither a core point nor a border point."
   ]
  },
  {
   "cell_type": "code",
   "execution_count": 13,
   "id": "9ddd0350",
   "metadata": {},
   "outputs": [],
   "source": [
    "#Set parameters eps and min_samples\n",
    "eps = 0.5\n",
    "min_samples = 5 #MinPts"
   ]
  },
  {
   "cell_type": "code",
   "execution_count": 14,
   "id": "effb9496",
   "metadata": {},
   "outputs": [],
   "source": [
    "model = DBSCAN(eps=eps, min_samples = min_samples)"
   ]
  },
  {
   "cell_type": "code",
   "execution_count": 22,
   "id": "901a88a1",
   "metadata": {},
   "outputs": [
    {
     "data": {
      "text/html": [
       "<div>\n",
       "<style scoped>\n",
       "    .dataframe tbody tr th:only-of-type {\n",
       "        vertical-align: middle;\n",
       "    }\n",
       "\n",
       "    .dataframe tbody tr th {\n",
       "        vertical-align: top;\n",
       "    }\n",
       "\n",
       "    .dataframe thead th {\n",
       "        text-align: right;\n",
       "    }\n",
       "</style>\n",
       "<table border=\"1\" class=\"dataframe\">\n",
       "  <thead>\n",
       "    <tr style=\"text-align: right;\">\n",
       "      <th></th>\n",
       "      <th>time</th>\n",
       "      <th>x</th>\n",
       "      <th>y</th>\n",
       "      <th>type</th>\n",
       "    </tr>\n",
       "  </thead>\n",
       "  <tbody>\n",
       "    <tr>\n",
       "      <th>140</th>\n",
       "      <td>11:40</td>\n",
       "      <td>11.006350</td>\n",
       "      <td>7.006574</td>\n",
       "      <td>1</td>\n",
       "    </tr>\n",
       "    <tr>\n",
       "      <th>141</th>\n",
       "      <td>11:45</td>\n",
       "      <td>11.000808</td>\n",
       "      <td>7.005455</td>\n",
       "      <td>1</td>\n",
       "    </tr>\n",
       "    <tr>\n",
       "      <th>142</th>\n",
       "      <td>11:50</td>\n",
       "      <td>11.004904</td>\n",
       "      <td>7.005528</td>\n",
       "      <td>1</td>\n",
       "    </tr>\n",
       "    <tr>\n",
       "      <th>143</th>\n",
       "      <td>11:55</td>\n",
       "      <td>11.005363</td>\n",
       "      <td>7.003178</td>\n",
       "      <td>1</td>\n",
       "    </tr>\n",
       "    <tr>\n",
       "      <th>144</th>\n",
       "      <td>12:00</td>\n",
       "      <td>11.001795</td>\n",
       "      <td>7.003857</td>\n",
       "      <td>1</td>\n",
       "    </tr>\n",
       "    <tr>\n",
       "      <th>145</th>\n",
       "      <td>12:05</td>\n",
       "      <td>13.003968</td>\n",
       "      <td>6.006318</td>\n",
       "      <td>-1</td>\n",
       "    </tr>\n",
       "    <tr>\n",
       "      <th>146</th>\n",
       "      <td>12:10</td>\n",
       "      <td>14.007290</td>\n",
       "      <td>5.502566</td>\n",
       "      <td>-1</td>\n",
       "    </tr>\n",
       "    <tr>\n",
       "      <th>147</th>\n",
       "      <td>12:15</td>\n",
       "      <td>15.009210</td>\n",
       "      <td>5.002812</td>\n",
       "      <td>-1</td>\n",
       "    </tr>\n",
       "    <tr>\n",
       "      <th>148</th>\n",
       "      <td>12:20</td>\n",
       "      <td>16.281027</td>\n",
       "      <td>5.296750</td>\n",
       "      <td>2</td>\n",
       "    </tr>\n",
       "    <tr>\n",
       "      <th>149</th>\n",
       "      <td>12:25</td>\n",
       "      <td>16.020301</td>\n",
       "      <td>5.015922</td>\n",
       "      <td>2</td>\n",
       "    </tr>\n",
       "  </tbody>\n",
       "</table>\n",
       "</div>"
      ],
      "text/plain": [
       "      time          x         y  type\n",
       "140  11:40  11.006350  7.006574     1\n",
       "141  11:45  11.000808  7.005455     1\n",
       "142  11:50  11.004904  7.005528     1\n",
       "143  11:55  11.005363  7.003178     1\n",
       "144  12:00  11.001795  7.003857     1\n",
       "145  12:05  13.003968  6.006318    -1\n",
       "146  12:10  14.007290  5.502566    -1\n",
       "147  12:15  15.009210  5.002812    -1\n",
       "148  12:20  16.281027  5.296750     2\n",
       "149  12:25  16.020301  5.015922     2"
      ]
     },
     "execution_count": 22,
     "metadata": {},
     "output_type": "execute_result"
    }
   ],
   "source": [
    "data['type'] = model.fit_predict(\n",
    "    data[['x','y']]\n",
    ")\n",
    "data[140:150]"
   ]
  },
  {
   "cell_type": "code",
   "execution_count": 38,
   "id": "3c3908cb",
   "metadata": {},
   "outputs": [
    {
     "name": "stdout",
     "output_type": "stream",
     "text": [
      " 0    119\n",
      " 1    104\n",
      "-1     29\n",
      " 3     25\n",
      " 2     11\n",
      "Name: type, dtype: int64\n"
     ]
    },
    {
     "data": {
      "image/png": "[encoded data removed]",
      "text/plain": [
       "<Figure size 640x480 with 1 Axes>"
      ]
     },
     "metadata": {},
     "output_type": "display_data"
    }
   ],
   "source": [
    "print(data['type'].value_counts())\n",
    "plt.hist(df['type'], bins=range(int(df['type'].min()), int(df['type'].max()) + 2), edgecolor='black')\n",
    "plt.show()"
   ]
  },
  {
   "cell_type": "code",
   "execution_count": 23,
   "id": "e328a553",
   "metadata": {},
   "outputs": [
    {
     "data": {
      "image/png": "[encoded data removed]",
      "text/plain": [
       "<Figure size 640x480 with 1 Axes>"
      ]
     },
     "metadata": {},
     "output_type": "display_data"
    }
   ],
   "source": [
    "# Draw the clusters\n",
    "plt.figure()\n",
    "cluster1 = plt.scatter(\n",
    "    data[data.type != -1]['x'],\n",
    "    data[data.type != -1]['y'],\n",
    "    c = data[data.type!=-1]['type']\n",
    ")"
   ]
  },
  {
   "cell_type": "code",
   "execution_count": 24,
   "id": "e0efbef4",
   "metadata": {},
   "outputs": [
    {
     "data": {
      "image/png": "[encoded data removed]",
      "text/plain": [
       "<Figure size 640x480 with 1 Axes>"
      ]
     },
     "metadata": {},
     "output_type": "display_data"
    }
   ],
   "source": [
    "# Draw the clusters\n",
    "plt.figure()\n",
    "cluster1 = plt.scatter(\n",
    "    data[data.type != -1]['x'],\n",
    "    data[data.type != -1]['y'],\n",
    "    c = data[data.type!=-1]['type']\n",
    ")\n",
    "# Add the noise points in red\n",
    "# plt.figure()\n",
    "plt.scatter(\n",
    "    data[data.type == -1]['x'],\n",
    "    data[data.type == -1]['y'],\n",
    "    c = 'red', marker = 'x'\n",
    ")\n",
    "plt.show()"
   ]
  },
  {
   "cell_type": "markdown",
   "id": "6eb6bd23",
   "metadata": {},
   "source": [
    "**Notes:** If we split cluster scatter plot part and noise scatter plot part into two cells, then noise cannot add the cluster plot directly, i.e."
   ]
  },
  {
   "cell_type": "code",
   "execution_count": 25,
   "id": "25e17288",
   "metadata": {},
   "outputs": [
    {
     "data": {
      "text/plain": [
       "<matplotlib.collections.PathCollection at 0x7fad79ce9fd0>"
      ]
     },
     "execution_count": 25,
     "metadata": {},
     "output_type": "execute_result"
    },
    {
     "data": {
      "image/png": "[encoded data removed]",
      "text/plain": [
       "<Figure size 640x480 with 1 Axes>"
      ]
     },
     "metadata": {},
     "output_type": "display_data"
    }
   ],
   "source": [
    "plt.scatter(\n",
    "    data[data.type == -1]['x'],\n",
    "    data[data.type == -1]['y'],\n",
    "    c = 'red', marker = 'x'\n",
    ")"
   ]
  },
  {
   "cell_type": "markdown",
   "id": "4473ea30",
   "metadata": {},
   "source": [
    "Therefore, if we want to combine them, we need to put two scatter plots together in one cell."
   ]
  },
  {
   "cell_type": "markdown",
   "id": "1e74d777",
   "metadata": {
    "ExecuteTime": {
     "end_time": "2023-02-24T09:04:27.743647Z",
     "start_time": "2023-02-24T09:04:27.737687Z"
    }
   },
   "source": [
    "# Summary report"
   ]
  },
  {
   "cell_type": "markdown",
   "id": "19be933d",
   "metadata": {},
   "source": [
    "## Objectives\n",
    "The case study cluster a specific person's active regions, where we applied the **DBSCAN** model on slides *'Density and spectral'* p3-14."
   ]
  },
  {
   "cell_type": "markdown",
   "id": "9b2e2d7d",
   "metadata": {},
   "source": [
    "\n",
    "## Organisation of the data\n",
    "The data set contains a total of 287 samples and 3 attributes/variables/features time and locations (x, y).\n",
    "\n",
    "## Exploratory data analysis：\n",
    "<!-- In the course of the exploratory data analysis, we find that `Encourage` has a strong discriminating effect on whether high school students attend college or not. In addition, we also find through the boxplot that `Parent_income` also have a good discrimination effect. After that, we used one-hot encoder to preprocess the data, so that the dataset could be processed by the decision tree model. -->\n",
    "The user's travel patterns and preferences can be deduced by analyzing the scatter plot, which displays the geographic locations they visited. Larger clusters on the scatter plot indicate frequent visits to certain areas. Our analysis shows that the user has visited mainly four distinct areas, which could provide significant insights into their travel preferences.\n",
    "\n",
    "##  Model specification\n",
    "The analysis objective suggested a clustering model that cluster a specific person's active regions by a common density clustering algorithm DBSCAN. There is an existing package sklearn.cluster, so we directly use this package to impelement clustering. We also can realize it manually, which has shown before.\n",
    "\n",
    "<!-- ## Model comparison -->\n",
    "<!-- Given that the Random Forest model is an **ensemble** method of the Decision Tree, we aim to build an optimal Decision Tree model based on the findings of Case Study 1: College Attending Plan Modeled by Decision Tree, and compare its performance with that of the Random Forest model on the testing set. By evaluating the **Accuracy** metric, we observe a slightly higher accuracy for the Random Forest model. Furthermore, upon examining the **Confusion Matrices**, we find that the Random Forest model outperforms the Decision Tree method in reducing the type 2 error rate, albeit at the cost of a slight increase in the type 1 error rate. We also observe that the **ROC curve** of the Random Forest model consistently outperforms that of the Decision Tree model, with a correspondingly higher **AUC score**. Overall, we conclude that the **Random Forest model exhibits superior classification performance compared to the Decision Tree model**, which further underscores the utility of ensemble methods in machine learning. -->"
   ]
  }
 ],
 "metadata": {
  "kernelspec": {
   "display_name": "Python 3 (ipykernel)",
   "language": "python",
   "name": "python3"
  },
  "language_info": {
   "codemirror_mode": {
    "name": "ipython",
    "version": 3
   },
   "file_extension": ".py",
   "mimetype": "text/x-python",
   "name": "python",
   "nbconvert_exporter": "python",
   "pygments_lexer": "ipython3",
   "version": "3.7.4"
  }
 },
 "nbformat": 4,
 "nbformat_minor": 5
}
