{
 "cells": [
  {
   "cell_type": "markdown",
   "id": "c5ef7782",
   "metadata": {},
   "source": [
    "***\n",
    "**Tutorial 2 for Chapter 3**\n",
    "\n",
    "Case study 10: Mining data on user's frequent areas of activity\n",
    "***\n",
    "<font color = 'darkred'>*Reference:*\n",
    "<font color = 'darkred'>*数据挖掘原理与应用*\n",
    "\n",
    "<!-- Acknowledgement:  \n",
    "**i2DM (Tan, Steinbach, Kumar (2018) Introduction to Data Mining , 2nd Ed, Pearson )** Pearson Press   -->\n",
    "For the course AMA546 Statistical Data Mining   \n",
    "Lecturer: Dr. Catherine Liu    \n",
    "AMA, PolyU, HKSAR"
   ]
  },
  {
   "cell_type": "markdown",
   "id": "6760f0e3",
   "metadata": {},
   "source": [
    "# Objectives of the analysis"
   ]
  },
  {
   "cell_type": "markdown",
   "id": "ec5996c0",
   "metadata": {},
   "source": [
    "The following information pertains to a 288 $\\times$ 3 table **'DBSCAN.csv'**. \n",
    "\n",
    "'DBSCAN.csv' consists of **the daily positioning data of a user at five minute intervals**.\n",
    "\n",
    "The **objective** of this study is to leverage the geolocation data to provide a **synopsis** of the regions in which the user is **actively** utilizing the **DBSCAN** algorithm."
   ]
  },
  {
   "cell_type": "markdown",
   "id": "db0f4653",
   "metadata": {},
   "source": [
    "# Description of the data "
   ]
  },
  {
   "cell_type": "code",
   "execution_count": 2,
   "id": "9abfbd65",
   "metadata": {},
   "outputs": [],
   "source": [
    "import pandas as pd\n",
    "import matplotlib.pyplot as plt# Description of the data \n",
    "from sklearn.cluster import DBSCAN"
   ]
  },
  {
   "cell_type": "code",
   "execution_count": 3,
   "id": "80b75153",
   "metadata": {},
   "outputs": [],
   "source": [
    "# Read the dataset\n",
    "data = pd.read_csv('/Users/ranjiang/Library/CloudStorage/OneDrive-TheHongKongPolytechnicUniversity/data mining/TUT_clustering/DBSCAN/DBSCAN.csv',\n",
    "                  encoding='utf8', engine='python')"
   ]
  },
  {
   "cell_type": "code",
   "execution_count": 4,
   "id": "fa8688db",
   "metadata": {},
   "outputs": [
    {
     "data": {
      "text/html": [
       "<div>\n",
       "<style scoped>\n",
       "    .dataframe tbody tr th:only-of-type {\n",
       "        vertical-align: middle;\n",
       "    }\n",
       "\n",
       "    .dataframe tbody tr th {\n",
       "        vertical-align: top;\n",
       "    }\n",
       "\n",
       "    .dataframe thead th {\n",
       "        text-align: right;\n",
       "    }\n",
       "</style>\n",
       "<table border=\"1\" class=\"dataframe\">\n",
       "  <thead>\n",
       "    <tr style=\"text-align: right;\">\n",
       "      <th></th>\n",
       "      <th>时间</th>\n",
       "      <th>x</th>\n",
       "      <th>y</th>\n",
       "    </tr>\n",
       "  </thead>\n",
       "  <tbody>\n",
       "    <tr>\n",
       "      <th>0</th>\n",
       "      <td>0:00</td>\n",
       "      <td>1.010065</td>\n",
       "      <td>1.015373</td>\n",
       "    </tr>\n",
       "    <tr>\n",
       "      <th>1</th>\n",
       "      <td>0:05</td>\n",
       "      <td>1.007142</td>\n",
       "      <td>1.005767</td>\n",
       "    </tr>\n",
       "    <tr>\n",
       "      <th>2</th>\n",
       "      <td>0:10</td>\n",
       "      <td>1.010765</td>\n",
       "      <td>1.005684</td>\n",
       "    </tr>\n",
       "    <tr>\n",
       "      <th>3</th>\n",
       "      <td>0:15</td>\n",
       "      <td>1.008393</td>\n",
       "      <td>1.008145</td>\n",
       "    </tr>\n",
       "    <tr>\n",
       "      <th>4</th>\n",
       "      <td>0:20</td>\n",
       "      <td>1.004085</td>\n",
       "      <td>1.015046</td>\n",
       "    </tr>\n",
       "  </tbody>\n",
       "</table>\n",
       "</div>"
      ],
      "text/plain": [
       "     时间         x         y\n",
       "0  0:00  1.010065  1.015373\n",
       "1  0:05  1.007142  1.005767\n",
       "2  0:10  1.010765  1.005684\n",
       "3  0:15  1.008393  1.008145\n",
       "4  0:20  1.004085  1.015046"
      ]
     },
     "execution_count": 4,
     "metadata": {},
     "output_type": "execute_result"
    }
   ],
   "source": [
    "data.head()"
   ]
  },
  {
   "cell_type": "markdown",
   "id": "65fa3ee0",
   "metadata": {},
   "source": [
    "Let's see the dimension of this dataset."
   ]
  },
  {
   "cell_type": "code",
   "execution_count": 5,
   "id": "7b56135d",
   "metadata": {},
   "outputs": [
    {
     "data": {
      "text/plain": [
       "(288, 3)"
      ]
     },
     "execution_count": 5,
     "metadata": {},
     "output_type": "execute_result"
    }
   ],
   "source": [
    "data.shape"
   ]
  },
  {
   "cell_type": "markdown",
   "id": "a2855a53",
   "metadata": {},
   "source": [
    "Rename the title '时间' to 'time'."
   ]
  },
  {
   "cell_type": "code",
   "execution_count": 6,
   "id": "64be9ffa",
   "metadata": {},
   "outputs": [
    {
     "data": {
      "text/html": [
       "<div>\n",
       "<style scoped>\n",
       "    .dataframe tbody tr th:only-of-type {\n",
       "        vertical-align: middle;\n",
       "    }\n",
       "\n",
       "    .dataframe tbody tr th {\n",
       "        vertical-align: top;\n",
       "    }\n",
       "\n",
       "    .dataframe thead th {\n",
       "        text-align: right;\n",
       "    }\n",
       "</style>\n",
       "<table border=\"1\" class=\"dataframe\">\n",
       "  <thead>\n",
       "    <tr style=\"text-align: right;\">\n",
       "      <th></th>\n",
       "      <th>time</th>\n",
       "      <th>x</th>\n",
       "      <th>y</th>\n",
       "    </tr>\n",
       "  </thead>\n",
       "  <tbody>\n",
       "    <tr>\n",
       "      <th>0</th>\n",
       "      <td>0:00</td>\n",
       "      <td>1.010065</td>\n",
       "      <td>1.015373</td>\n",
       "    </tr>\n",
       "    <tr>\n",
       "      <th>1</th>\n",
       "      <td>0:05</td>\n",
       "      <td>1.007142</td>\n",
       "      <td>1.005767</td>\n",
       "    </tr>\n",
       "    <tr>\n",
       "      <th>2</th>\n",
       "      <td>0:10</td>\n",
       "      <td>1.010765</td>\n",
       "      <td>1.005684</td>\n",
       "    </tr>\n",
       "    <tr>\n",
       "      <th>3</th>\n",
       "      <td>0:15</td>\n",
       "      <td>1.008393</td>\n",
       "      <td>1.008145</td>\n",
       "    </tr>\n",
       "    <tr>\n",
       "      <th>4</th>\n",
       "      <td>0:20</td>\n",
       "      <td>1.004085</td>\n",
       "      <td>1.015046</td>\n",
       "    </tr>\n",
       "  </tbody>\n",
       "</table>\n",
       "</div>"
      ],
      "text/plain": [
       "   time         x         y\n",
       "0  0:00  1.010065  1.015373\n",
       "1  0:05  1.007142  1.005767\n",
       "2  0:10  1.010765  1.005684\n",
       "3  0:15  1.008393  1.008145\n",
       "4  0:20  1.004085  1.015046"
      ]
     },
     "execution_count": 6,
     "metadata": {},
     "output_type": "execute_result"
    }
   ],
   "source": [
    "data.rename(columns={'时间': 'time'},inplace=True)\n",
    "data.head() "
   ]
  },
  {
   "cell_type": "markdown",
   "id": "f32f069d",
   "metadata": {},
   "source": [
    "See types of attributes."
   ]
  },
  {
   "cell_type": "code",
   "execution_count": 7,
   "id": "c3562840",
   "metadata": {
    "scrolled": true
   },
   "outputs": [
    {
     "data": {
      "text/plain": [
       "time     object\n",
       "x       float64\n",
       "y       float64\n",
       "dtype: object"
      ]
     },
     "execution_count": 7,
     "metadata": {},
     "output_type": "execute_result"
    }
   ],
   "source": [
    "data.dtypes"
   ]
  },
  {
   "cell_type": "markdown",
   "id": "576b0ba8",
   "metadata": {
    "ExecuteTime": {
     "end_time": "2023-02-24T02:43:28.806037Z",
     "start_time": "2023-02-24T02:43:28.801584Z"
    }
   },
   "source": [
    "#  Exploratory data analysis (based on original dataset)"
   ]
  },
  {
   "cell_type": "code",
   "execution_count": 8,
   "id": "4ce303a9",
   "metadata": {},
   "outputs": [
    {
     "data": {
      "text/html": [
       "<div>\n",
       "<style scoped>\n",
       "    .dataframe tbody tr th:only-of-type {\n",
       "        vertical-align: middle;\n",
       "    }\n",
       "\n",
       "    .dataframe tbody tr th {\n",
       "        vertical-align: top;\n",
       "    }\n",
       "\n",
       "    .dataframe thead th {\n",
       "        text-align: right;\n",
       "    }\n",
       "</style>\n",
       "<table border=\"1\" class=\"dataframe\">\n",
       "  <thead>\n",
       "    <tr style=\"text-align: right;\">\n",
       "      <th></th>\n",
       "      <th>x</th>\n",
       "      <th>y</th>\n",
       "    </tr>\n",
       "  </thead>\n",
       "  <tbody>\n",
       "    <tr>\n",
       "      <th>count</th>\n",
       "      <td>288.000000</td>\n",
       "      <td>288.000000</td>\n",
       "    </tr>\n",
       "    <tr>\n",
       "      <th>mean</th>\n",
       "      <td>8.923721</td>\n",
       "      <td>3.731517</td>\n",
       "    </tr>\n",
       "    <tr>\n",
       "      <th>std</th>\n",
       "      <td>8.142161</td>\n",
       "      <td>2.793233</td>\n",
       "    </tr>\n",
       "    <tr>\n",
       "      <th>min</th>\n",
       "      <td>1.000965</td>\n",
       "      <td>1.001381</td>\n",
       "    </tr>\n",
       "    <tr>\n",
       "      <th>25%</th>\n",
       "      <td>1.015438</td>\n",
       "      <td>1.013569</td>\n",
       "    </tr>\n",
       "    <tr>\n",
       "      <th>50%</th>\n",
       "      <td>11.003421</td>\n",
       "      <td>1.776322</td>\n",
       "    </tr>\n",
       "    <tr>\n",
       "      <th>75%</th>\n",
       "      <td>11.601037</td>\n",
       "      <td>7.005497</td>\n",
       "    </tr>\n",
       "    <tr>\n",
       "      <th>max</th>\n",
       "      <td>27.965653</td>\n",
       "      <td>7.434636</td>\n",
       "    </tr>\n",
       "  </tbody>\n",
       "</table>\n",
       "</div>"
      ],
      "text/plain": [
       "                x           y\n",
       "count  288.000000  288.000000\n",
       "mean     8.923721    3.731517\n",
       "std      8.142161    2.793233\n",
       "min      1.000965    1.001381\n",
       "25%      1.015438    1.013569\n",
       "50%     11.003421    1.776322\n",
       "75%     11.601037    7.005497\n",
       "max     27.965653    7.434636"
      ]
     },
     "execution_count": 8,
     "metadata": {},
     "output_type": "execute_result"
    }
   ],
   "source": [
    "data.describe()"
   ]
  },
  {
   "cell_type": "code",
   "execution_count": 9,
   "id": "e1e909fc",
   "metadata": {
    "scrolled": true
   },
   "outputs": [
    {
     "data": {
      "text/plain": [
       "<matplotlib.collections.PathCollection at 0x7fe59a854a60>"
      ]
     },
     "execution_count": 9,
     "metadata": {},
     "output_type": "execute_result"
    },
    {
     "data": {
      "image/png": "[encoded data removed]",
      "text/plain": [
       "<Figure size 432x288 with 1 Axes>"
      ]
     },
     "metadata": {
      "needs_background": "light"
     },
     "output_type": "display_data"
    }
   ],
   "source": [
    "plt.figure() # Create a blank canvas\n",
    "plt.scatter(\n",
    "    data['x'],\n",
    "    data['y'])"
   ]
  },
  {
   "cell_type": "markdown",
   "id": "d8cc0d4a",
   "metadata": {},
   "source": [
    "## DBSCAN algorithm"
   ]
  },
  {
   "cell_type": "code",
   "execution_count": 10,
   "id": "9ddd0350",
   "metadata": {},
   "outputs": [],
   "source": [
    "#Set parameters eps and min_samples\n",
    "eps = 0.5\n",
    "min_samples = 5"
   ]
  },
  {
   "cell_type": "code",
   "execution_count": 11,
   "id": "effb9496",
   "metadata": {},
   "outputs": [],
   "source": [
    "model = DBSCAN(eps=eps, min_samples = min_samples)"
   ]
  },
  {
   "cell_type": "code",
   "execution_count": 12,
   "id": "901a88a1",
   "metadata": {},
   "outputs": [
    {
     "data": {
      "text/html": [
       "<div>\n",
       "<style scoped>\n",
       "    .dataframe tbody tr th:only-of-type {\n",
       "        vertical-align: middle;\n",
       "    }\n",
       "\n",
       "    .dataframe tbody tr th {\n",
       "        vertical-align: top;\n",
       "    }\n",
       "\n",
       "    .dataframe thead th {\n",
       "        text-align: right;\n",
       "    }\n",
       "</style>\n",
       "<table border=\"1\" class=\"dataframe\">\n",
       "  <thead>\n",
       "    <tr style=\"text-align: right;\">\n",
       "      <th></th>\n",
       "      <th>time</th>\n",
       "      <th>x</th>\n",
       "      <th>y</th>\n",
       "      <th>type</th>\n",
       "    </tr>\n",
       "  </thead>\n",
       "  <tbody>\n",
       "    <tr>\n",
       "      <th>0</th>\n",
       "      <td>0:00</td>\n",
       "      <td>1.010065</td>\n",
       "      <td>1.015373</td>\n",
       "      <td>0</td>\n",
       "    </tr>\n",
       "    <tr>\n",
       "      <th>1</th>\n",
       "      <td>0:05</td>\n",
       "      <td>1.007142</td>\n",
       "      <td>1.005767</td>\n",
       "      <td>0</td>\n",
       "    </tr>\n",
       "    <tr>\n",
       "      <th>2</th>\n",
       "      <td>0:10</td>\n",
       "      <td>1.010765</td>\n",
       "      <td>1.005684</td>\n",
       "      <td>0</td>\n",
       "    </tr>\n",
       "    <tr>\n",
       "      <th>3</th>\n",
       "      <td>0:15</td>\n",
       "      <td>1.008393</td>\n",
       "      <td>1.008145</td>\n",
       "      <td>0</td>\n",
       "    </tr>\n",
       "    <tr>\n",
       "      <th>4</th>\n",
       "      <td>0:20</td>\n",
       "      <td>1.004085</td>\n",
       "      <td>1.015046</td>\n",
       "      <td>0</td>\n",
       "    </tr>\n",
       "  </tbody>\n",
       "</table>\n",
       "</div>"
      ],
      "text/plain": [
       "   time         x         y  type\n",
       "0  0:00  1.010065  1.015373     0\n",
       "1  0:05  1.007142  1.005767     0\n",
       "2  0:10  1.010765  1.005684     0\n",
       "3  0:15  1.008393  1.008145     0\n",
       "4  0:20  1.004085  1.015046     0"
      ]
     },
     "execution_count": 12,
     "metadata": {},
     "output_type": "execute_result"
    }
   ],
   "source": [
    "data['type'] = model.fit_predict(\n",
    "    data[['x','y']]\n",
    ")\n",
    "data.head()"
   ]
  },
  {
   "cell_type": "code",
   "execution_count": 14,
   "id": "e328a553",
   "metadata": {},
   "outputs": [
    {
     "data": {
      "text/plain": [
       "<matplotlib.collections.PathCollection at 0x7fe58a3f34c0>"
      ]
     },
     "execution_count": 14,
     "metadata": {},
     "output_type": "execute_result"
    },
    {
     "data": {
      "image/png": "[encoded data removed]",
      "text/plain": [
       "<Figure size 432x288 with 1 Axes>"
      ]
     },
     "metadata": {
      "needs_background": "light"
     },
     "output_type": "display_data"
    }
   ],
   "source": [
    "# Draw the clusters\n",
    "plt.figure()\n",
    "plt.scatter(\n",
    "    data[data.type != -1]['x'],\n",
    "    data[data.type != -1]['y'],\n",
    "    c = data[data.type!=-1]['type']\n",
    ")"
   ]
  },
  {
   "cell_type": "code",
   "execution_count": 15,
   "id": "e0efbef4",
   "metadata": {},
   "outputs": [
    {
     "data": {
      "text/plain": [
       "<matplotlib.collections.PathCollection at 0x7fe58012c280>"
      ]
     },
     "execution_count": 15,
     "metadata": {},
     "output_type": "execute_result"
    },
    {
     "data": {
      "image/png": "[encoded data removed]",
      "text/plain": [
       "<Figure size 432x288 with 1 Axes>"
      ]
     },
     "metadata": {
      "needs_background": "light"
     },
     "output_type": "display_data"
    }
   ],
   "source": [
    "# Draw the noises and draw noise points in red\n",
    "plt.figure()\n",
    "plt.scatter(\n",
    "    data[data.type != -1]['x'],\n",
    "    data[data.type != -1]['y'],\n",
    "    c = 'red', marker = 'x'\n",
    ")"
   ]
  },
  {
   "cell_type": "markdown",
   "id": "1e74d777",
   "metadata": {
    "ExecuteTime": {
     "end_time": "2023-02-24T09:04:27.743647Z",
     "start_time": "2023-02-24T09:04:27.737687Z"
    }
   },
   "source": [
    "# Summary report"
   ]
  },
  {
   "cell_type": "markdown",
   "id": "19be933d",
   "metadata": {},
   "source": [
    "## Objectives\n",
    "The case study cluster a specific person's active regions, where we applied the **DBSCAN** model on slides *'Density and spectral'* p3-14."
   ]
  },
  {
   "cell_type": "markdown",
   "id": "9b2e2d7d",
   "metadata": {},
   "source": [
    "\n",
    "## Organisation of the data\n",
    "The data set contains a total of 287 samples and 3 attributes/variables/features time and locations (x, y).\n",
    "\n",
    "## Exploratory data analysis：\n",
    "In the course of the exploratory data analysis, we find that `Encourage` has a strong discriminating effect on whether high school students attend college or not. In addition, we also find through the boxplot that `Parent_income` also have a good discrimination effect. After that, we used one-hot encoder to preprocess the data, so that the dataset could be processed by the decision tree model.\n",
    "\n",
    "##  Model specification\n",
    "The analysis objective suggested a predictive classification model that allocates high school students to categories with and without plan to go to college. Therefore, we consider **Random Forest**.\n",
    "\n",
    "## Model comparison\n",
    "Given that the Random Forest model is an **ensemble** method of the Decision Tree, we aim to build an optimal Decision Tree model based on the findings of Case Study 1: College Attending Plan Modeled by Decision Tree, and compare its performance with that of the Random Forest model on the testing set. By evaluating the **Accuracy** metric, we observe a slightly higher accuracy for the Random Forest model. Furthermore, upon examining the **Confusion Matrices**, we find that the Random Forest model outperforms the Decision Tree method in reducing the type 2 error rate, albeit at the cost of a slight increase in the type 1 error rate. We also observe that the **ROC curve** of the Random Forest model consistently outperforms that of the Decision Tree model, with a correspondingly higher **AUC score**. Overall, we conclude that the **Random Forest model exhibits superior classification performance compared to the Decision Tree model**, which further underscores the utility of ensemble methods in machine learning."
   ]
  }
 ],
 "metadata": {
  "kernelspec": {
   "display_name": "Python 3 (ipykernel)",
   "language": "python",
   "name": "python3"
  },
  "language_info": {
   "codemirror_mode": {
    "name": "ipython",
    "version": 3
   },
   "file_extension": ".py",
   "mimetype": "text/x-python",
   "name": "python",
   "nbconvert_exporter": "python",
   "pygments_lexer": "ipython3",
   "version": "3.9.12"
  }
 },
 "nbformat": 4,
 "nbformat_minor": 5
}
