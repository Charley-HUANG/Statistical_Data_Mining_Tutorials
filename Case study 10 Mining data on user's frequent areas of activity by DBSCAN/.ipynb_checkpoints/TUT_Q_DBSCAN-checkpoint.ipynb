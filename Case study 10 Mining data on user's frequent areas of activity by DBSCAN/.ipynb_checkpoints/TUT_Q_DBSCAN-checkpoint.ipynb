{
 "cells": [
  {
   "cell_type": "markdown",
   "id": "c5ef7782",
   "metadata": {},
   "source": [
    "***\n",
    "**Tutorial 2 for Chapter 3**\n",
    "\n",
    "Case study 10: Mining data on user's frequent areas of activity\n",
    "***\n",
    "<font color = 'darkred'>*Reference:*\n",
    "<font color = 'darkred'>*数据挖掘原理与应用*\n",
    "\n",
    "<!-- Acknowledgement:  \n",
    "**i2DM (Tan, Steinbach, Kumar (2018) Introduction to Data Mining , 2nd Ed, Pearson )** Pearson Press   -->\n",
    "For the course AMA546 Statistical Data Mining   \n",
    "Lecturer: Dr. Catherine Liu    \n",
    "AMA, PolyU, HKSAR"
   ]
  },
  {
   "cell_type": "markdown",
   "id": "6760f0e3",
   "metadata": {},
   "source": [
    "# Objectives of the analysis"
   ]
  },
  {
   "cell_type": "markdown",
   "id": "ec5996c0",
   "metadata": {},
   "source": [
    "The following information (Out[2]) pertains to a 288 $\\times$ 3 table **'DBSCAN.csv'**. \n",
    "\n",
    "'DBSCAN.csv' consists of **the daily positioning data of a user at five minute intervals**."
   ]
  },
  {
   "cell_type": "code",
   "execution_count": 5,
   "id": "fbdf4568",
   "metadata": {
    "hide_input": true
   },
   "outputs": [
    {
     "data": {
      "text/html": [
       "<div>\n",
       "<style scoped>\n",
       "    .dataframe tbody tr th:only-of-type {\n",
       "        vertical-align: middle;\n",
       "    }\n",
       "\n",
       "    .dataframe tbody tr th {\n",
       "        vertical-align: top;\n",
       "    }\n",
       "\n",
       "    .dataframe thead th {\n",
       "        text-align: right;\n",
       "    }\n",
       "</style>\n",
       "<table border=\"1\" class=\"dataframe\">\n",
       "  <thead>\n",
       "    <tr style=\"text-align: right;\">\n",
       "      <th></th>\n",
       "      <th>时间</th>\n",
       "      <th>x</th>\n",
       "      <th>y</th>\n",
       "    </tr>\n",
       "  </thead>\n",
       "  <tbody>\n",
       "    <tr>\n",
       "      <th>0</th>\n",
       "      <td>0:00</td>\n",
       "      <td>1.010065</td>\n",
       "      <td>1.015373</td>\n",
       "    </tr>\n",
       "    <tr>\n",
       "      <th>1</th>\n",
       "      <td>0:05</td>\n",
       "      <td>1.007142</td>\n",
       "      <td>1.005767</td>\n",
       "    </tr>\n",
       "    <tr>\n",
       "      <th>2</th>\n",
       "      <td>0:10</td>\n",
       "      <td>1.010765</td>\n",
       "      <td>1.005684</td>\n",
       "    </tr>\n",
       "    <tr>\n",
       "      <th>3</th>\n",
       "      <td>0:15</td>\n",
       "      <td>1.008393</td>\n",
       "      <td>1.008145</td>\n",
       "    </tr>\n",
       "    <tr>\n",
       "      <th>4</th>\n",
       "      <td>0:20</td>\n",
       "      <td>1.004085</td>\n",
       "      <td>1.015046</td>\n",
       "    </tr>\n",
       "    <tr>\n",
       "      <th>...</th>\n",
       "      <td>...</td>\n",
       "      <td>...</td>\n",
       "      <td>...</td>\n",
       "    </tr>\n",
       "    <tr>\n",
       "      <th>283</th>\n",
       "      <td>23:35</td>\n",
       "      <td>1.810196</td>\n",
       "      <td>1.295716</td>\n",
       "    </tr>\n",
       "    <tr>\n",
       "      <th>284</th>\n",
       "      <td>23:40</td>\n",
       "      <td>1.710392</td>\n",
       "      <td>1.094984</td>\n",
       "    </tr>\n",
       "    <tr>\n",
       "      <th>285</th>\n",
       "      <td>23:45</td>\n",
       "      <td>1.038173</td>\n",
       "      <td>1.134390</td>\n",
       "    </tr>\n",
       "    <tr>\n",
       "      <th>286</th>\n",
       "      <td>23:50</td>\n",
       "      <td>1.352387</td>\n",
       "      <td>1.132372</td>\n",
       "    </tr>\n",
       "    <tr>\n",
       "      <th>287</th>\n",
       "      <td>23:55</td>\n",
       "      <td>1.395330</td>\n",
       "      <td>1.275665</td>\n",
       "    </tr>\n",
       "  </tbody>\n",
       "</table>\n",
       "<p>288 rows × 3 columns</p>\n",
       "</div>"
      ],
      "text/plain": [
       "        时间         x         y\n",
       "0     0:00  1.010065  1.015373\n",
       "1     0:05  1.007142  1.005767\n",
       "2     0:10  1.010765  1.005684\n",
       "3     0:15  1.008393  1.008145\n",
       "4     0:20  1.004085  1.015046\n",
       "..     ...       ...       ...\n",
       "283  23:35  1.810196  1.295716\n",
       "284  23:40  1.710392  1.094984\n",
       "285  23:45  1.038173  1.134390\n",
       "286  23:50  1.352387  1.132372\n",
       "287  23:55  1.395330  1.275665\n",
       "\n",
       "[288 rows x 3 columns]"
      ]
     },
     "execution_count": 5,
     "metadata": {},
     "output_type": "execute_result"
    }
   ],
   "source": [
    "import pandas as pd\n",
    "data = pd.read_csv('/Users/ranjiang/Library/CloudStorage/OneDrive-TheHongKongPolytechnicUniversity/data mining/TUT_clustering/DBSCAN/DBSCAN.csv',\n",
    "                  encoding='utf8', engine='python')\n",
    "data"
   ]
  },
  {
   "cell_type": "markdown",
   "id": "6ecdf399",
   "metadata": {},
   "source": [
    "Out[3] shows **types of attributes** in 'DBSCAN.csv'. Attribute '时间' also can be replaced by 'time'."
   ]
  },
  {
   "cell_type": "code",
   "execution_count": 3,
   "id": "5eb6806b",
   "metadata": {
    "hide_input": true
   },
   "outputs": [
    {
     "data": {
      "text/plain": [
       "时间     object\n",
       "x     float64\n",
       "y     float64\n",
       "dtype: object"
      ]
     },
     "execution_count": 3,
     "metadata": {},
     "output_type": "execute_result"
    }
   ],
   "source": [
    "data.dtypes"
   ]
  },
  {
   "cell_type": "markdown",
   "id": "be379611",
   "metadata": {},
   "source": [
    "The **objective** of this study is to leverage the geolocation data to provide a **synopsis** of the regions in which the user is **actively** utilizing the **DBSCAN** algorithm."
   ]
  },
  {
   "cell_type": "markdown",
   "id": "30deb093",
   "metadata": {},
   "source": [
    "<font color = green> *Hint*: consider the package 'sklearn.cluster'. </font>"
   ]
  }
 ],
 "metadata": {
  "kernelspec": {
   "display_name": "Python 3 (ipykernel)",
   "language": "python",
   "name": "python3"
  },
  "language_info": {
   "codemirror_mode": {
    "name": "ipython",
    "version": 3
   },
   "file_extension": ".py",
   "mimetype": "text/x-python",
   "name": "python",
   "nbconvert_exporter": "python",
   "pygments_lexer": "ipython3",
   "version": "3.9.12"
  }
 },
 "nbformat": 4,
 "nbformat_minor": 5
}
