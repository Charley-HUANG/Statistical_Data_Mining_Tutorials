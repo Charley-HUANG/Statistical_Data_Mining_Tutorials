{
 "cells": [
  {
   "cell_type": "markdown",
   "id": "61dbd0eb",
   "metadata": {},
   "source": [
    "***\n",
    "**Tutorial 2 for Chapter 3**\n",
    "\n",
    "Case study 11: Mining business areas based on operator base station datasets\n",
    "***\n",
    "<font color = 'darkred'>*Reference:*\n",
    "<font color = 'darkred'>*数据挖掘原理与应用*\n",
    "\n",
    "<!-- Acknowledgement:  \n",
    "**i2DM (Tan, Steinbach, Kumar (2018) Introduction to Data Mining , 2nd Ed, Pearson )** Pearson Press   -->\n",
    "For the course AMA546 Statistical Data Mining   \n",
    "Lecturer: Dr. Catherine Liu    \n",
    "AMA, PolyU, HKSAR"
   ]
  },
  {
   "cell_type": "markdown",
   "id": "b6b9799f",
   "metadata": {},
   "source": [
    "# Objectives of the analysis"
   ]
  },
  {
   "cell_type": "markdown",
   "id": "5bafd2a7",
   "metadata": {},
   "source": [
    "Operator base station can collect imfomation including ‘Base station ID', 'Average stay length during working hours on weekdays', 'Average stay length in early morning','Average stay length on weekends', 'Average daily footfall' near each base station.\n",
    "\n",
    "Out[1] shows this information. This 431 $\\times$ 5 table is in **'Hierachy.csv'**."
   ]
  },
  {
   "cell_type": "code",
   "execution_count": 1,
   "id": "00fa0b80",
   "metadata": {
    "hide_input": true
   },
   "outputs": [
    {
     "data": {
      "text/html": [
       "<div>\n",
       "<style scoped>\n",
       "    .dataframe tbody tr th:only-of-type {\n",
       "        vertical-align: middle;\n",
       "    }\n",
       "\n",
       "    .dataframe tbody tr th {\n",
       "        vertical-align: top;\n",
       "    }\n",
       "\n",
       "    .dataframe thead th {\n",
       "        text-align: right;\n",
       "    }\n",
       "</style>\n",
       "<table border=\"1\" class=\"dataframe\">\n",
       "  <thead>\n",
       "    <tr style=\"text-align: right;\">\n",
       "      <th></th>\n",
       "      <th>基站编号</th>\n",
       "      <th>工作日上班时间人均停留时间</th>\n",
       "      <th>凌晨人均停留时间</th>\n",
       "      <th>周末人均停留时间</th>\n",
       "      <th>日均人流量</th>\n",
       "    </tr>\n",
       "  </thead>\n",
       "  <tbody>\n",
       "    <tr>\n",
       "      <th>0</th>\n",
       "      <td>36902</td>\n",
       "      <td>78</td>\n",
       "      <td>521</td>\n",
       "      <td>602</td>\n",
       "      <td>2863</td>\n",
       "    </tr>\n",
       "    <tr>\n",
       "      <th>1</th>\n",
       "      <td>36903</td>\n",
       "      <td>144</td>\n",
       "      <td>600</td>\n",
       "      <td>521</td>\n",
       "      <td>2245</td>\n",
       "    </tr>\n",
       "    <tr>\n",
       "      <th>2</th>\n",
       "      <td>36904</td>\n",
       "      <td>95</td>\n",
       "      <td>457</td>\n",
       "      <td>468</td>\n",
       "      <td>1283</td>\n",
       "    </tr>\n",
       "    <tr>\n",
       "      <th>3</th>\n",
       "      <td>36905</td>\n",
       "      <td>69</td>\n",
       "      <td>596</td>\n",
       "      <td>695</td>\n",
       "      <td>1054</td>\n",
       "    </tr>\n",
       "    <tr>\n",
       "      <th>4</th>\n",
       "      <td>36906</td>\n",
       "      <td>190</td>\n",
       "      <td>527</td>\n",
       "      <td>691</td>\n",
       "      <td>2051</td>\n",
       "    </tr>\n",
       "    <tr>\n",
       "      <th>...</th>\n",
       "      <td>...</td>\n",
       "      <td>...</td>\n",
       "      <td>...</td>\n",
       "      <td>...</td>\n",
       "      <td>...</td>\n",
       "    </tr>\n",
       "    <tr>\n",
       "      <th>426</th>\n",
       "      <td>35562</td>\n",
       "      <td>87</td>\n",
       "      <td>95</td>\n",
       "      <td>239</td>\n",
       "      <td>8196</td>\n",
       "    </tr>\n",
       "    <tr>\n",
       "      <th>427</th>\n",
       "      <td>38624</td>\n",
       "      <td>98</td>\n",
       "      <td>90</td>\n",
       "      <td>280</td>\n",
       "      <td>7977</td>\n",
       "    </tr>\n",
       "    <tr>\n",
       "      <th>428</th>\n",
       "      <td>36017</td>\n",
       "      <td>120</td>\n",
       "      <td>52</td>\n",
       "      <td>134</td>\n",
       "      <td>12621</td>\n",
       "    </tr>\n",
       "    <tr>\n",
       "      <th>429</th>\n",
       "      <td>38827</td>\n",
       "      <td>99</td>\n",
       "      <td>99</td>\n",
       "      <td>127</td>\n",
       "      <td>12058</td>\n",
       "    </tr>\n",
       "    <tr>\n",
       "      <th>430</th>\n",
       "      <td>37787</td>\n",
       "      <td>99</td>\n",
       "      <td>51</td>\n",
       "      <td>264</td>\n",
       "      <td>10552</td>\n",
       "    </tr>\n",
       "  </tbody>\n",
       "</table>\n",
       "<p>431 rows × 5 columns</p>\n",
       "</div>"
      ],
      "text/plain": [
       "      基站编号  工作日上班时间人均停留时间  凌晨人均停留时间  周末人均停留时间  日均人流量\n",
       "0    36902             78       521       602   2863\n",
       "1    36903            144       600       521   2245\n",
       "2    36904             95       457       468   1283\n",
       "3    36905             69       596       695   1054\n",
       "4    36906            190       527       691   2051\n",
       "..     ...            ...       ...       ...    ...\n",
       "426  35562             87        95       239   8196\n",
       "427  38624             98        90       280   7977\n",
       "428  36017            120        52       134  12621\n",
       "429  38827             99        99       127  12058\n",
       "430  37787             99        51       264  10552\n",
       "\n",
       "[431 rows x 5 columns]"
      ]
     },
     "execution_count": 1,
     "metadata": {},
     "output_type": "execute_result"
    }
   ],
   "source": [
    "import pandas as pd \n",
    "data = pd.read_csv(\n",
    "    '/Users/ranjiang/Library/CloudStorage/OneDrive-TheHongKongPolytechnicUniversity/data mining/TUT_clustering/Hierarchical/Hierachy.csv',\n",
    "    encoding = 'utf8', engine='python'\n",
    ")\n",
    "data"
   ]
  },
  {
   "cell_type": "markdown",
   "id": "15aecca1",
   "metadata": {},
   "source": [
    "Out[2] shows **types of attributes** in 'Hierachy.csv'. They can be replaced by [‘Base station ID', 'Average stay length during working hours on weekdays', 'Average stay length in early morning','Average stay length on weekends', 'Average daily footfall' ]."
   ]
  },
  {
   "cell_type": "code",
   "execution_count": 2,
   "id": "b583a393",
   "metadata": {
    "hide_input": true
   },
   "outputs": [
    {
     "data": {
      "text/plain": [
       "基站编号             int64\n",
       "工作日上班时间人均停留时间    int64\n",
       "凌晨人均停留时间         int64\n",
       "周末人均停留时间         int64\n",
       "日均人流量            int64\n",
       "dtype: object"
      ]
     },
     "execution_count": 2,
     "metadata": {},
     "output_type": "execute_result"
    }
   ],
   "source": [
    "data.dtypes"
   ]
  },
  {
   "cell_type": "markdown",
   "id": "889f3f10",
   "metadata": {},
   "source": [
    "We **aim** to cluster this dataset and divide these base stations into different business areas."
   ]
  },
  {
   "cell_type": "markdown",
   "id": "52a79711",
   "metadata": {},
   "source": [
    "<font color = green> *Hint*: </font>\n",
    "    \n",
    "<font color = green>   - Consider the package 'sklearn.cluster'. </font>\n",
    "    \n",
    "<font color = green>    - Consider PCA in the preprocessing process. </font>"
   ]
  }
 ],
 "metadata": {
  "kernelspec": {
   "display_name": "Python 3 (ipykernel)",
   "language": "python",
   "name": "python3"
  },
  "language_info": {
   "codemirror_mode": {
    "name": "ipython",
    "version": 3
   },
   "file_extension": ".py",
   "mimetype": "text/x-python",
   "name": "python",
   "nbconvert_exporter": "python",
   "pygments_lexer": "ipython3",
   "version": "3.9.12"
  }
 },
 "nbformat": 4,
 "nbformat_minor": 5
}
